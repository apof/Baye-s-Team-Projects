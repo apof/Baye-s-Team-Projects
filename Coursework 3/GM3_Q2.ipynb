{
 "cells": [
  {
   "cell_type": "markdown",
   "metadata": {},
   "source": [
    "# Question 2\n",
    "\n",
    "1) Message passing via direct inferenece\n",
    "\n",
    "2) Mean field approximation\n",
    "\n",
    "3) Gibbs sampling\n",
    "\n",
    "- work out how you get the joint of the two corners as this is still an issue, then use the methods above ot find."
   ]
  },
  {
   "cell_type": "code",
   "execution_count": 2,
   "metadata": {},
   "outputs": [],
   "source": [
    "import numpy as np"
   ]
  },
  {
   "cell_type": "code",
   "execution_count": 132,
   "metadata": {},
   "outputs": [],
   "source": [
    "def potential(xi, xj, beta):\n",
    "    return np.exp((beta*(xi == xj)))"
   ]
  },
  {
   "cell_type": "markdown",
   "metadata": {},
   "source": [
    "# Message passing via direct inference"
   ]
  },
  {
   "cell_type": "markdown",
   "metadata": {},
   "source": [
    "Here message passing is done by simplifing it to a single connected graph and message passing that way and then decomposing at the end to the get corners based of the message going into x10\n",
    "\n",
    "- will need to initialise each variable with the associated potentials\n",
    "- will then need to send messages back and forth - forward/backward from before?\n",
    "- then given the output for X10 we will have to decompose by summing over all possible values of other nodes\n"
   ]
  },
  {
   "cell_type": "code",
   "execution_count": 523,
   "metadata": {},
   "outputs": [],
   "source": [
    "def perms(n):\n",
    "    # Define a function to get all permutations of length n of binary bits\n",
    "    if not n:\n",
    "        return\n",
    "\n",
    "    for i in range(2**n):\n",
    "        s = bin(i)[2:]\n",
    "        s = \"0\" * (n-len(s)) + s\n",
    "        s = list(s)\n",
    "        s = [int(i) for i in s]\n",
    "        yield s"
   ]
  },
  {
   "cell_type": "code",
   "execution_count": 524,
   "metadata": {},
   "outputs": [],
   "source": [
    "fives = np.array(list(perms(5)))\n",
    "#print(fives)"
   ]
  },
  {
   "cell_type": "code",
   "execution_count": 525,
   "metadata": {},
   "outputs": [],
   "source": [
    "def forward_pass(T,initial,n):\n",
    "    alpha = np.zeros((n, T.shape[0]))\n",
    "    alpha[0,:] = initial \n",
    "    \n",
    "    for t in range(1,n):\n",
    "        for j in range(T.shape[0]):\n",
    "            alpha[t,j]=alpha[t-1]@T[j,:]\n",
    "            \n",
    "    return alpha\n",
    "            "
   ]
  },
  {
   "cell_type": "code",
   "execution_count": 526,
   "metadata": {},
   "outputs": [],
   "source": [
    "def backward_pass(T,n):\n",
    "    beta = np.zeros((n, T.shape[0]))\n",
    "    beta[n - 1,:] = np.ones((1,T.shape[0]))\n",
    "    \n",
    "    for t in range(n-2,-1,-1):\n",
    "        for j in range(T.shape[0]):\n",
    "            beta[t,j]=beta[t+1]@T[:,j]\n",
    "        \n",
    "    return beta\n",
    "    "
   ]
  },
  {
   "cell_type": "code",
   "execution_count": 527,
   "metadata": {},
   "outputs": [],
   "source": [
    "def extract_prob(n,a,b,prob):\n",
    "    # n is the size of the matrix we are looking at\n",
    "    # prob - marginal for the column what all combinations are\n",
    "    # a the first first varialbe to take joint of \n",
    "    # bthe second variable to take join of\n",
    "    # Will return P a prob matrix representing the joint probability over (n,m) in the column\n",
    "    \n",
    "    # Obtain all permutations\n",
    "    perm = np.array(list(perms(n)))\n",
    "    \n",
    "    # Intialise P - rows are the first corner and columns are second corner\n",
    "    P = np.zeros((2,2))\n",
    "    \n",
    "    # Cycle through all permuations and sum up for the probs in that row\n",
    "    for row in range(perm.shape[0]):\n",
    "        P[perm[row,a],perm[row,b]] += prob[row]\n",
    "        #P[perm[row,a],perm[row+1,a]] += prob\n",
    "        \n",
    "            \n",
    "    return P"
   ]
  },
  {
   "cell_type": "code",
   "execution_count": 528,
   "metadata": {},
   "outputs": [],
   "source": [
    "def exact_inference(n, beta):\n",
    "    # n - represents the size of our grid (here we will be using 10)\n",
    "    \n",
    "    \n",
    "    # Firstly lets get all permutatoins of a 10 element 2 bit marker so we can perform potentials between them.\n",
    "    perm = np.array(list(perms(n)))\n",
    "    \n",
    "    # Initial probabilities \n",
    "    initial = np.ones((1,2**n))\n",
    "    \n",
    "    for row in range(perm.shape[0]):\n",
    "        for col in range(perm.shape[1]-1):\n",
    "            initial[0,row] *= potential(perm[row,col],perm[row,col+1],beta)\n",
    "            \n",
    "    initial = initial/np.sum(initial)\n",
    "            \n",
    "    # Lets now work out the possible transitions between configurations of one column and another, this is a 2^10 by 2^10\n",
    "    T = np.ones((2**n, 2**n))\n",
    "    \n",
    "    for i in range(2**n):\n",
    "        for j in range(2**n):\n",
    "            for k in range(n):\n",
    "                T[i,j] *= potential(perm[i,k], perm[j,k], beta)\n",
    "                \n",
    "    T = T/np.sum(T, axis=0)\n",
    "                \n",
    "    \n",
    "    forw = forward_pass(T,initial,n)\n",
    "    back = backward_pass(T,n)\n",
    "    \n",
    "    posterior = forw[n-1,:]*back[n-1,:]\n",
    "    \n",
    "    P = extract_prob(n,0,9,posterior)\n",
    "    \n",
    "    return P"
   ]
  },
  {
   "cell_type": "code",
   "execution_count": 207,
   "metadata": {},
   "outputs": [
    {
     "data": {
      "text/plain": [
       "array([[0.25, 0.25],\n",
       "       [0.25, 0.25]])"
      ]
     },
     "execution_count": 207,
     "metadata": {},
     "output_type": "execute_result"
    }
   ],
   "source": [
    "size = 10\n",
    "beta = 1\n",
    "exact_inference(size, beta)"
   ]
  },
  {
   "cell_type": "code",
   "execution_count": 208,
   "metadata": {},
   "outputs": [
    {
     "data": {
      "text/plain": [
       "array([[0.34297269, 0.15702731],\n",
       "       [0.15702731, 0.34297269]])"
      ]
     },
     "execution_count": 208,
     "metadata": {},
     "output_type": "execute_result"
    }
   ],
   "source": [
    "size = 10\n",
    "beta = 4 \n",
    "exact_inference(size, beta)"
   ]
  },
  {
   "cell_type": "code",
   "execution_count": 209,
   "metadata": {},
   "outputs": [
    {
     "data": {
      "text/plain": [
       "array([[0.25, 0.25],\n",
       "       [0.25, 0.25]])"
      ]
     },
     "execution_count": 209,
     "metadata": {},
     "output_type": "execute_result"
    }
   ],
   "source": [
    "size = 10\n",
    "beta = 0.01 \n",
    "exact_inference(size, beta)"
   ]
  },
  {
   "cell_type": "code",
   "execution_count": 529,
   "metadata": {},
   "outputs": [
    {
     "data": {
      "text/plain": [
       "array([[0.49938785, 0.00061215],\n",
       "       [0.00061215, 0.49938785]])"
      ]
     },
     "execution_count": 529,
     "metadata": {},
     "output_type": "execute_result"
    }
   ],
   "source": [
    "size = 10\n",
    "beta = 10\n",
    "exact_inference(size, beta)"
   ]
  },
  {
   "cell_type": "markdown",
   "metadata": {},
   "source": [
    "# Mean field approximation\n",
    "\n",
    "- coordinate ascent will be used for updates"
   ]
  },
  {
   "cell_type": "code",
   "execution_count": 478,
   "metadata": {},
   "outputs": [],
   "source": [
    "def potential(xi, xj, beta):\n",
    "    return np.exp((beta*(xi == xj)))"
   ]
  },
  {
   "cell_type": "code",
   "execution_count": 540,
   "metadata": {},
   "outputs": [],
   "source": [
    "def free_energy(q,beta):\n",
    "    pos, row, col = q.shape\n",
    "    \n",
    "    FE = 0 \n",
    "    for i in range(row):\n",
    "        for j in range(col):\n",
    "            for k in range(pos):\n",
    "                # Add the entropy\n",
    "                FE += entropy(q[k,i,j])\n",
    "                \n",
    "                # Now we need E-k[log p(xk|X-k)] over qk\n",
    "                FE += q[k,i,j]*expectation(i,j,k,q,beta)                         \n",
    "    return FE"
   ]
  },
  {
   "cell_type": "code",
   "execution_count": 496,
   "metadata": {},
   "outputs": [],
   "source": [
    "def entropy(q):\n",
    "    # Binary entropy function\n",
    "    H = -q*np.log(q) - (1-q)*np.log(1-q)\n",
    "    return H"
   ]
  },
  {
   "cell_type": "code",
   "execution_count": 591,
   "metadata": {},
   "outputs": [],
   "source": [
    "def get_post(q):\n",
    "    # This function is used to extract the posterior on the two corners\n",
    "    \n",
    "    #post = np.concatenate((q[:,0,9].reshape(1,2),q[:,9,9].reshape(1,2)), axis = 0)\n",
    "   # post = post/np.sum(post)\n",
    "    post = q[:,0,9].reshape(2,1)@q[:,9,9].reshape(1,2)\n",
    "    return post"
   ]
  },
  {
   "cell_type": "code",
   "execution_count": 588,
   "metadata": {},
   "outputs": [],
   "source": [
    "def expectation(i,j,xk,q,beta):\n",
    "    # Function to conpute the expectation with of E-k[log P(xk|X-K)]\n",
    "    # i,j are the coordinates of the current node\n",
    "    # xk is value of xk node \n",
    "    # q is our distribution\n",
    "    \n",
    "    # This expectation only depends on the neighbouring nodes\n",
    "    height, width = q.shape[1:]\n",
    "    \n",
    "    ex = 0\n",
    "    \n",
    "    if i>0:\n",
    "        for k in range(2):\n",
    "            ex += q[k,i-1,j]*np.log(potential(k,xk,beta))\n",
    "    if i<height-1:\n",
    "        for k in range(2):\n",
    "            ex += q[k,i+1,j]*np.log(potential(k,xk,beta))\n",
    "    if j > 0:\n",
    "        for k in range(2):\n",
    "            ex += q[k,i,j-1]*np.log(potential(k,xk,beta))\n",
    "    if j < width - 1:\n",
    "        for k in range(2):\n",
    "            ex += q[k,i,j+1]*np.log(potential(k,xk,beta))\n",
    "    return ex   "
   ]
  },
  {
   "cell_type": "code",
   "execution_count": 627,
   "metadata": {},
   "outputs": [],
   "source": [
    "def mean_field_approx(shape, beta,max_iter):\n",
    "    # Here we define the mean field approximation function which randomly initialises the distribtuions q and iteratively updates the indvidual ones\n",
    "    # by summing over the others\n",
    "    rows,cols = shape\n",
    "    \n",
    "    # need a posterior on q for each element in the grid - 2 for 0 or 1 and then of size grid.\n",
    "    q = np.zeros((2,rows,cols))\n",
    "    \n",
    "    #randomly initialise\n",
    "    for i in range(rows):\n",
    "        for j in range(cols):\n",
    "            q[0,i,j] = np.random.rand()\n",
    "            q[1,i,j] = 1- q[0,i,j]\n",
    "            \n",
    "    print('Free energy: ', free_energy(q,beta))\n",
    "    \n",
    "    # We need to iteratively update q at each step of the way\n",
    "    converged = False\n",
    "    iterations = 0    \n",
    "    \n",
    "    while converged == False:\n",
    "        # First we wish to update the q values based off those around\n",
    "        \n",
    "        new_q = np.zeros((2,rows,cols))\n",
    "        for i in range(rows):\n",
    "            for j in range(cols):\n",
    "                for k in range(0,2):\n",
    "                    new_q[k,i,j] = expectation(i,j,k,q,beta)\n",
    "                new_q[:,i,j] = new_q[:,i,j]/np.sum(new_q[:,i,j])\n",
    "                    \n",
    "        #print(new_q)\n",
    "        # Now we want to compute the ELBO free energy\n",
    "        #print('Free energy: ',free_energy(new_q, beta))       \n",
    "        \n",
    "        iterations += 1\n",
    "        if iterations == max_iter:\n",
    "            converged = True\n",
    "        q = new_q\n",
    "    print('Free energy: ',free_energy(new_q, beta))    \n",
    "    post = get_post(q)\n",
    "    return post"
   ]
  },
  {
   "cell_type": "code",
   "execution_count": 626,
   "metadata": {},
   "outputs": [
    {
     "name": "stdout",
     "output_type": "stream",
     "text": [
      "Free energy:  103.76862928935755\n",
      "Free energy:  136.02374533425518\n",
      "0.9999999999999999\n"
     ]
    },
    {
     "data": {
      "text/plain": [
       "array([[0.19505348, 0.16222642],\n",
       "       [0.35088678, 0.29183333]])"
      ]
     },
     "execution_count": 626,
     "metadata": {},
     "output_type": "execute_result"
    }
   ],
   "source": [
    "shape = 10,10\n",
    "beta = 0.01\n",
    "max_iter=100\n",
    "mean_field_approx(shape, beta,max_iter)"
   ]
  },
  {
   "cell_type": "markdown",
   "metadata": {},
   "source": [
    "# Gibbs sampling"
   ]
  },
  {
   "cell_type": "code",
   "execution_count": 404,
   "metadata": {},
   "outputs": [],
   "source": [
    "def neighbours(i,j,arr):\n",
    "    #This function can be used to get all the labels for neightbouring points.\n",
    "    \n",
    "    height, width = arr.shape\n",
    "    #if i > 0:\n",
    "    #    yield arr[i - 1, j]\n",
    "    if i < height - 1:\n",
    "        yield arr[i + 1, j]\n",
    "    #if j > 0:\n",
    "    #    yield arr[i, j - 1]\n",
    "    if j < width - 1:\n",
    "        yield arr[i, j + 1]"
   ]
  },
  {
   "cell_type": "code",
   "execution_count": 295,
   "metadata": {},
   "outputs": [],
   "source": [
    "def potential(xi, xj, beta):\n",
    "    return (beta*(xi == xj))"
   ]
  },
  {
   "cell_type": "code",
   "execution_count": 296,
   "metadata": {},
   "outputs": [],
   "source": [
    "def get_potentials(beta, num_lables):\n",
    "    potential_matrix = np.zeros((num_lables, num_lables))\n",
    "    \n",
    "    for i in range(2):\n",
    "        for j in range(2):\n",
    "            potential_matrix[i,j] = potential(i, j, beta)\n",
    "    \n",
    "    return potential_matrix  "
   ]
  },
  {
   "cell_type": "code",
   "execution_count": 402,
   "metadata": {},
   "outputs": [],
   "source": [
    "class MarkovRandomField():\n",
    "    # This class will define our markov random field \n",
    "    # Shape is the size we want which here will be 10x10\n",
    "    # potentials - these will be the pairwise potentials which are found depending on [0,0] [1,0] [0,1], [1,1]\n",
    "    \n",
    "    def  __init__(self, shape, beta, num_labels=2):\n",
    "        self.beta = beta\n",
    "        self.label = np.random.randint(0, num_labels, shape)\n",
    "        self.potentials = get_potentials(self.beta, num_labels)\n",
    "    \n",
    "    # Define probabitility function to get whole probability.\n",
    "    def probability(self):\n",
    "        P = 0\n",
    "        for (i, j), label in np.ndenumerate(self.label):\n",
    "            for adjacent_label in neighbours(i, j, self.label):\n",
    "                P += self.potentials[label, adjacent_label]\n",
    "        return np.exp(P)\n",
    "    \n",
    "    def __len__(self):\n",
    "        return self.label.size\n",
    "    \n",
    "    def visualise(self):\n",
    "        print(self.label)"
   ]
  },
  {
   "cell_type": "code",
   "execution_count": 431,
   "metadata": {},
   "outputs": [],
   "source": [
    "def Gibbs_sampling(shape,runs,beta):\n",
    "    \n",
    "    Prob = np.zeros((2,2))\n",
    "    \n",
    "    for run in range(runs):\n",
    "        # For each run we wish to randomly initialise our random field and then update it to convergence\n",
    "        # Then see what the values of the two corners are and update accordingly.\n",
    "        field = MarkovRandomField(shape, beta)\n",
    "        \n",
    "        node_order = [np.unravel_index(i, shape) for i in range(len(field))]\n",
    "\n",
    "        for iteration in range(50):\n",
    "            np.random.shuffle(node_order)\n",
    "            \n",
    "            for n, (i, j) in enumerate(node_order):\n",
    "                field.label[i, j] = 0\n",
    "                prLabelEquals0 = field.probability()\n",
    "\n",
    "                field.label[i, j] = 1\n",
    "                prLabelEquals1 = field.probability()\n",
    "\n",
    "                norm_const = prLabelEquals0 + prLabelEquals1\n",
    "                prLabelEquals0 = prLabelEquals0/norm_const\n",
    "                prLabelEquals1 = prLabelEquals1/norm_const\n",
    "\n",
    "                # sample from a normal and execept if greater then something\n",
    "                r = np.random.rand()\n",
    "                if r <= prLabelEquals1:\n",
    "                    field.label[i, j] = 1\n",
    "                else:\n",
    "                    field.label[i, j] = 0\n",
    "                \n",
    "        Prob[field.label[0,9],field.label[9,9]] += 1\n",
    "        \n",
    "    Prob = Prob/np.sum(Prob)\n",
    "    \n",
    "    return Prob"
   ]
  },
  {
   "cell_type": "code",
   "execution_count": 354,
   "metadata": {},
   "outputs": [
    {
     "data": {
      "text/plain": [
       "array([[0.253, 0.228],\n",
       "       [0.266, 0.253]])"
      ]
     },
     "execution_count": 354,
     "metadata": {},
     "output_type": "execute_result"
    }
   ],
   "source": [
    "shape = 10,10\n",
    "runs = 1000\n",
    "beta = 0.01\n",
    "Gibbs_sampling(shape,runs,beta)"
   ]
  },
  {
   "cell_type": "code",
   "execution_count": 355,
   "metadata": {},
   "outputs": [
    {
     "data": {
      "text/plain": [
       "array([[0.246, 0.247],\n",
       "       [0.235, 0.272]])"
      ]
     },
     "execution_count": 355,
     "metadata": {},
     "output_type": "execute_result"
    }
   ],
   "source": [
    "shape = 10,10\n",
    "runs = 1000\n",
    "beta = 1\n",
    "Gibbs_sampling(shape,runs,beta)"
   ]
  },
  {
   "cell_type": "code",
   "execution_count": 476,
   "metadata": {},
   "outputs": [
    {
     "name": "stderr",
     "output_type": "stream",
     "text": [
      "C:\\Users\\henry\\Anaconda3\\lib\\site-packages\\ipykernel_launcher.py:24: RuntimeWarning: invalid value encountered in double_scalars\n",
      "C:\\Users\\henry\\Anaconda3\\lib\\site-packages\\ipykernel_launcher.py:23: RuntimeWarning: invalid value encountered in double_scalars\n"
     ]
    },
    {
     "data": {
      "text/plain": [
       "array([[0.387, 0.125],\n",
       "       [0.116, 0.372]])"
      ]
     },
     "execution_count": 476,
     "metadata": {},
     "output_type": "execute_result"
    }
   ],
   "source": [
    "shape = 10,10\n",
    "runs = 1000\n",
    "beta = 4\n",
    "Gibbs_sampling(shape,runs,beta)"
   ]
  },
  {
   "cell_type": "code",
   "execution_count": null,
   "metadata": {},
   "outputs": [],
   "source": []
  },
  {
   "cell_type": "code",
   "execution_count": null,
   "metadata": {},
   "outputs": [],
   "source": []
  },
  {
   "cell_type": "code",
   "execution_count": 210,
   "metadata": {},
   "outputs": [],
   "source": [
    "shape = 10, 10\n",
    "#Beta value to shuffle over.\n",
    "beta = 10\n",
    "field = MarkovRandomField(shape, beta)"
   ]
  },
  {
   "cell_type": "code",
   "execution_count": 188,
   "metadata": {},
   "outputs": [
    {
     "name": "stdout",
     "output_type": "stream",
     "text": [
      "[[0 1 0 0 1 0 0 1 0 0]\n",
      " [1 1 1 0 0 0 1 0 0 1]\n",
      " [1 0 0 0 0 1 1 1 1 1]\n",
      " [0 0 0 1 0 1 1 1 0 1]\n",
      " [1 1 0 1 0 1 1 1 0 0]\n",
      " [0 0 1 1 0 1 0 1 1 0]\n",
      " [1 0 1 0 1 1 0 0 1 1]\n",
      " [0 1 0 1 0 1 1 0 0 0]\n",
      " [0 0 0 1 0 1 0 1 0 1]\n",
      " [1 1 1 1 0 1 1 1 0 0]]\n"
     ]
    }
   ],
   "source": [
    "field.visualise()"
   ]
  },
  {
   "cell_type": "code",
   "execution_count": 189,
   "metadata": {},
   "outputs": [
    {
     "name": "stdout",
     "output_type": "stream",
     "text": [
      "5.584528464275955\n",
      "[[1.02020134 1.01005017]\n",
      " [1.01005017 1.        ]]\n"
     ]
    }
   ],
   "source": [
    "print(field.probability())\n",
    "print(field.probability_corners())"
   ]
  },
  {
   "cell_type": "code",
   "execution_count": null,
   "metadata": {},
   "outputs": [],
   "source": []
  },
  {
   "cell_type": "code",
   "execution_count": 475,
   "metadata": {},
   "outputs": [
    {
     "name": "stdout",
     "output_type": "stream",
     "text": [
      "[[1 1 1 0 0 1 1 0 1 1]\n",
      " [0 0 0 1 0 0 0 1 0 1]\n",
      " [0 0 0 1 1 1 1 0 0 0]\n",
      " [0 0 0 0 0 0 0 0 0 0]\n",
      " [0 0 1 0 0 0 0 1 0 0]\n",
      " [1 1 1 1 0 1 0 1 1 0]\n",
      " [0 0 0 0 1 0 0 0 0 0]\n",
      " [0 0 1 0 0 1 0 1 1 1]\n",
      " [1 1 0 1 1 1 1 0 0 1]\n",
      " [0 1 0 1 0 1 0 1 1 0]]\n",
      "\n",
      "\n",
      "[[0 0 0 0 0 0 0 0 0 0]\n",
      " [0 0 0 0 0 0 0 0 0 0]\n",
      " [0 0 0 0 0 0 0 0 0 0]\n",
      " [0 0 0 0 0 0 0 0 0 0]\n",
      " [0 0 0 0 0 0 0 0 0 0]\n",
      " [0 0 0 0 0 0 0 0 0 0]\n",
      " [1 1 1 1 0 0 0 0 0 0]\n",
      " [1 1 1 1 1 1 1 1 1 1]\n",
      " [1 1 1 1 1 1 1 1 1 1]\n",
      " [1 1 1 1 1 1 1 1 1 1]]\n"
     ]
    }
   ],
   "source": [
    "shape = 10, 10\n",
    "#Beta value to shuffle over.\n",
    "beta = 4\n",
    "field = MarkovRandomField(shape, beta)\n",
    "\n",
    "node_order = [np.unravel_index(i, shape) for i in range(len(field))]\n",
    "\n",
    "field.visualise()\n",
    "\n",
    "for iteration in range(20):\n",
    "    #field.visualise()\n",
    "    np.random.shuffle(node_order)\n",
    "    #this is \n",
    "    for n, (i, j) in enumerate(node_order):\n",
    "        field.label[i, j] = 0\n",
    "        prLabelEquals0 = field.probability()\n",
    "        \n",
    "        field.label[i, j] = 1\n",
    "        prLabelEquals1 = field.probability()\n",
    "        \n",
    "        #print(prLabelEquals0,prLabelEquals1)\n",
    "\n",
    "        norm_const = prLabelEquals0 + prLabelEquals1\n",
    "        prLabelEquals0 = prLabelEquals0/norm_const\n",
    "        prLabelEquals1 = prLabelEquals1/norm_const\n",
    "        \n",
    "        # sample from a normal and execept if greater then something\n",
    "        r = np.random.rand()\n",
    "        if r <= prLabelEquals1:\n",
    "            field.label[i, j] = 1\n",
    "        else:\n",
    "            field.label[i, j] = 0\n",
    "\n",
    "print('\\n')\n",
    "field.visualise() "
   ]
  }
 ],
 "metadata": {
  "kernelspec": {
   "display_name": "Python 3",
   "language": "python",
   "name": "python3"
  },
  "language_info": {
   "codemirror_mode": {
    "name": "ipython",
    "version": 3
   },
   "file_extension": ".py",
   "mimetype": "text/x-python",
   "name": "python",
   "nbconvert_exporter": "python",
   "pygments_lexer": "ipython3",
   "version": "3.7.3"
  }
 },
 "nbformat": 4,
 "nbformat_minor": 4
}
