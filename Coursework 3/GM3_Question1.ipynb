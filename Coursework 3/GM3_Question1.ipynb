{
 "cells": [
  {
   "cell_type": "markdown",
   "metadata": {},
   "source": [
    "# Assignment 3\n",
    "\n",
    "## Question 1\n",
    "### part a)"
   ]
  },
  {
   "cell_type": "code",
   "execution_count": 5,
   "metadata": {},
   "outputs": [],
   "source": [
    "import numpy as np"
   ]
  },
  {
   "cell_type": "code",
   "execution_count": 6,
   "metadata": {},
   "outputs": [],
   "source": [
    "H = np.array([[1,1,1,1,0,0],[0,0,1,1,0,1], [1,0,0,1,1,0]])"
   ]
  },
  {
   "cell_type": "code",
   "execution_count": 65,
   "metadata": {},
   "outputs": [],
   "source": [
    "def system_encoding(H):\n",
    "    n_rows, n_columns = H.shape\n",
    "    H_hat = np.zeros((H.shape))\n",
    "    \n",
    "    for i in range(n_columns):\n",
    "        H_hat[:,i] = H[:, i]\n",
    "     \n",
    "    \n",
    "    for j in range(n_rows):\n",
    "        found = False\n",
    "        dummy = np.zeros((H.shape))\n",
    "        for i in range(n_columns):\n",
    "            if (np.sum(H_hat[:,i]) == 1) & (H_hat[j,i] == 1) & (found==False):\n",
    "                dummy[:,n_columns-n_rows+j] = H_hat[:,i].T\n",
    "                dummy[:,i] = H_hat[:, n_columns-n_rows+j]\n",
    "                found = True\n",
    "                    \n",
    "            elif np.sum(dummy[:,i]) == 0:\n",
    "                dummy[:,i] = H_hat[:,i]\n",
    "        \n",
    "        H_hat = dummy\n",
    "    \n",
    "            \n",
    "    G = np.zeros((n_columns, n_columns-n_rows))\n",
    "    G[:n_columns - n_rows, :n_columns - n_rows] = np.eye(N=n_columns-n_rows)\n",
    "    G[n_columns - n_rows:, :n_columns - n_rows] = H_hat[:, :n_columns-n_rows]\n",
    "    return H_hat, G"
   ]
  },
  {
   "cell_type": "code",
   "execution_count": 8,
   "metadata": {},
   "outputs": [],
   "source": [
    "A = np.array([[1,0,1,0,0,1], [0,1,1,0,0,1], [0,0,0,0,1,1]])"
   ]
  },
  {
   "cell_type": "code",
   "execution_count": 9,
   "metadata": {},
   "outputs": [],
   "source": [
    "B = np.array([[1,1,0,1,0,0], [0,0,1,1,0,0], [1,0,0,1,1,0], [0,0,0,0,0,1]])"
   ]
  },
  {
   "cell_type": "code",
   "execution_count": 10,
   "metadata": {},
   "outputs": [],
   "source": [
    "C = np.array([[1,1,0,0,1,0],[1,1,0,0,0,1],[1,0,0,1,0,0]])"
   ]
  },
  {
   "cell_type": "code",
   "execution_count": 66,
   "metadata": {},
   "outputs": [
    {
     "name": "stdout",
     "output_type": "stream",
     "text": [
      "[[1 1 1 1 0 0]\n",
      " [0 0 1 1 0 1]\n",
      " [1 0 0 1 1 0]]\n",
      "\n",
      "\n",
      "[[1. 1. 1. 1. 0. 0.]\n",
      " [0. 1. 1. 0. 1. 0.]\n",
      " [1. 1. 0. 0. 0. 1.]]\n",
      "\n",
      "\n",
      "[[1. 0. 0.]\n",
      " [0. 1. 0.]\n",
      " [0. 0. 1.]\n",
      " [1. 1. 1.]\n",
      " [0. 1. 1.]\n",
      " [1. 1. 0.]]\n"
     ]
    }
   ],
   "source": [
    "print(H)\n",
    "print('\\n')\n",
    "H_bar,G_bar = system_encoding(H)\n",
    "print(H_bar)\n",
    "print('\\n')\n",
    "print(G_bar)"
   ]
  },
  {
   "cell_type": "code",
   "execution_count": 67,
   "metadata": {},
   "outputs": [
    {
     "name": "stdout",
     "output_type": "stream",
     "text": [
      "0.0\n"
     ]
    }
   ],
   "source": [
    "print(np.sum(H_bar@G_bar@np.array([0,0,0]).T)%2)"
   ]
  },
  {
   "cell_type": "code",
   "execution_count": 68,
   "metadata": {},
   "outputs": [
    {
     "name": "stdout",
     "output_type": "stream",
     "text": [
      "[[1 0 1 0 0 1]\n",
      " [0 1 1 0 0 1]\n",
      " [0 0 0 0 1 1]]\n",
      "\n",
      "\n",
      "[[0. 1. 1. 1. 0. 0.]\n",
      " [0. 1. 1. 0. 1. 0.]\n",
      " [0. 1. 0. 0. 0. 1.]]\n",
      "\n",
      "\n",
      "[[1. 0. 0.]\n",
      " [0. 1. 0.]\n",
      " [0. 0. 1.]\n",
      " [0. 1. 1.]\n",
      " [0. 1. 1.]\n",
      " [0. 1. 0.]]\n"
     ]
    }
   ],
   "source": [
    "print(A)\n",
    "print('\\n')\n",
    "H_bar,G_bar = system_encoding(A)\n",
    "print(H_bar)\n",
    "print('\\n')\n",
    "print(G_bar)"
   ]
  },
  {
   "cell_type": "code",
   "execution_count": 69,
   "metadata": {},
   "outputs": [
    {
     "name": "stdout",
     "output_type": "stream",
     "text": [
      "[[1 1 0 1 0 0]\n",
      " [0 0 1 1 0 0]\n",
      " [1 0 0 1 1 0]\n",
      " [0 0 0 0 0 1]]\n",
      "\n",
      "\n",
      "[[1. 1. 1. 0. 0. 0.]\n",
      " [0. 1. 0. 1. 0. 0.]\n",
      " [1. 1. 0. 0. 1. 0.]\n",
      " [0. 0. 0. 0. 0. 1.]]\n",
      "\n",
      "\n",
      "[[1. 0.]\n",
      " [0. 1.]\n",
      " [1. 1.]\n",
      " [0. 1.]\n",
      " [1. 1.]\n",
      " [0. 0.]]\n"
     ]
    }
   ],
   "source": [
    "print(B)\n",
    "print('\\n')\n",
    "H_bar,G_bar = system_encoding(B)\n",
    "print(H_bar)\n",
    "print('\\n')\n",
    "print(G_bar)"
   ]
  },
  {
   "cell_type": "code",
   "execution_count": 70,
   "metadata": {},
   "outputs": [
    {
     "name": "stdout",
     "output_type": "stream",
     "text": [
      "[[1 1 0 0 1 0]\n",
      " [1 1 0 0 0 1]\n",
      " [1 0 0 1 0 0]]\n",
      "\n",
      "\n",
      "[[1. 1. 0. 1. 0. 0.]\n",
      " [1. 1. 0. 0. 1. 0.]\n",
      " [1. 0. 0. 0. 0. 1.]]\n",
      "\n",
      "\n",
      "[[1. 0. 0.]\n",
      " [0. 1. 0.]\n",
      " [0. 0. 1.]\n",
      " [1. 1. 0.]\n",
      " [1. 1. 0.]\n",
      " [1. 0. 0.]]\n"
     ]
    }
   ],
   "source": [
    "print(C)\n",
    "print('\\n')\n",
    "H_bar,G_bar = system_encoding(C)\n",
    "print(H_bar)\n",
    "print('\\n')\n",
    "print(G_bar)"
   ]
  },
  {
   "cell_type": "code",
   "execution_count": 78,
   "metadata": {},
   "outputs": [
    {
     "name": "stdout",
     "output_type": "stream",
     "text": [
      "[[1 1 0 1 0 0]\n",
      " [0 0 1 1 0 1]\n",
      " [0 0 0 1 1 0]]\n",
      "\n",
      "\n",
      "[[1. 1. 0. 1. 0. 0.]\n",
      " [1. 0. 1. 0. 1. 0.]\n",
      " [1. 0. 0. 0. 0. 1.]]\n",
      "\n",
      "\n",
      "[[1. 0. 0.]\n",
      " [0. 1. 0.]\n",
      " [0. 0. 1.]\n",
      " [1. 1. 0.]\n",
      " [1. 0. 1.]\n",
      " [1. 0. 0.]]\n"
     ]
    }
   ],
   "source": [
    "D = np.array([[1,1,0,1,0,0],[0,0,1,1,0,1], [0,0,0,1,1,0]])\n",
    "print(D)\n",
    "print('\\n')\n",
    "H_bar,G_bar = system_encoding(D)\n",
    "print(H_bar)\n",
    "print('\\n')\n",
    "print(G_bar)"
   ]
  },
  {
   "cell_type": "markdown",
   "metadata": {},
   "source": [
    "### part c)"
   ]
  },
  {
   "cell_type": "code",
   "execution_count": 72,
   "metadata": {},
   "outputs": [],
   "source": [
    "with open('H1.txt', 'r') as f:\n",
    "    H1 = [[int(num) for num in line.split(' ')] for line in f]\n",
    "H1 = np.array(H1)\n",
    "\n",
    "with open('y1.txt', 'r') as f:\n",
    "    y1 = [[int(num) for num in line.split(' ')] for line in f]\n",
    "y1 = np.array(y1)   \n",
    "H1_hat, G1 = system_encoding(H1)"
   ]
  },
  {
   "cell_type": "code",
   "execution_count": 88,
   "metadata": {},
   "outputs": [
    {
     "name": "stdout",
     "output_type": "stream",
     "text": [
      "(750, 1000)\n",
      "(1000, 250)\n",
      "3000.0\n"
     ]
    }
   ],
   "source": [
    "print(H1.shape)\n",
    "print(G1.shape)\n",
    "print(np.sum(H1_hat))\n",
    "#print(np.sum(H1_hat,axis=0)%2)"
   ]
  },
  {
   "cell_type": "code",
   "execution_count": null,
   "metadata": {},
   "outputs": [],
   "source": [
    "def ldpc_decoder(H_hat, y, p, max_iter = 20):\n",
    "    # This function should be used to do loopy belief propogation on our recieved signal y and return a vector\n",
    "    # which reperesents the decoded output message.\n",
    "    # This function should work on the assumption we using the Binary symetric channel\n",
    "    # It should also output a zero if the a solution was reached and algorithm converged and -1 if it is not.\n",
    "    \n",
    "    # Going to need to set up priors and messages which are going to be sent around the system "
   ]
  }
 ],
 "metadata": {
  "kernelspec": {
   "display_name": "Python 3",
   "language": "python",
   "name": "python3"
  },
  "language_info": {
   "codemirror_mode": {
    "name": "ipython",
    "version": 3
   },
   "file_extension": ".py",
   "mimetype": "text/x-python",
   "name": "python",
   "nbconvert_exporter": "python",
   "pygments_lexer": "ipython3",
   "version": "3.7.3"
  }
 },
 "nbformat": 4,
 "nbformat_minor": 4
}
