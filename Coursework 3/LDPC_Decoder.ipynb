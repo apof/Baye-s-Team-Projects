{
 "cells": [
  {
   "cell_type": "code",
   "execution_count": null,
   "metadata": {},
   "outputs": [],
   "source": [
    "import numpy as np"
   ]
  },
  {
   "cell_type": "code",
   "execution_count": null,
   "metadata": {},
   "outputs": [],
   "source": [
    "### Code is based on the second reference of the assignment's paper\n",
    "\n",
    "#### USEFUL REFERENCES #######\n",
    "## Initialisations, FV, VF according to https://www.ics.uci.edu/~welling/teaching/ICS279/LPCD.pdf\n",
    "## FV, VF p 7, 8 --- Initialisation p 8\n",
    "## parity check function: https://en.wikipedia.org/wiki/Hamming_code"
   ]
  },
  {
   "cell_type": "code",
   "execution_count": null,
   "metadata": {},
   "outputs": [],
   "source": [
    "H=np.loadtxt('H1.txt')\n",
    "y=np.loadtxt('y1.txt')"
   ]
  },
  {
   "cell_type": "code",
   "execution_count": null,
   "metadata": {},
   "outputs": [],
   "source": [
    "print(H.shape)\n",
    "print(y.shape)"
   ]
  },
  {
   "cell_type": "code",
   "execution_count": null,
   "metadata": {},
   "outputs": [],
   "source": [
    "## find the indexes of the factors with value one for a specific variable\n",
    "## that indicates the existance of an edge between the variable and the factor at the bipartite graph\n",
    "def get_active_edges(node):   \n",
    "    result = []\n",
    "    for i in range(node.shape[0]):\n",
    "        if(node[i] == 1):\n",
    "            result.append(i)\n",
    "    return result"
   ]
  },
  {
   "cell_type": "code",
   "execution_count": null,
   "metadata": {},
   "outputs": [],
   "source": [
    "def create_var_edge_dict(H):\n",
    "    variable_number = H.shape[1]\n",
    "    var_edge_dict = {}\n",
    "    for i in range(variable_number):\n",
    "        var_edge_dict[i] = get_active_edges(H[:,i])\n",
    "        \n",
    "    return var_edge_dict"
   ]
  },
  {
   "cell_type": "code",
   "execution_count": null,
   "metadata": {},
   "outputs": [],
   "source": [
    "def create_factor_edge_dict(H):\n",
    "    factor_number = H.shape[0]\n",
    "    factor_edge_dict = {}\n",
    "    for i in range(factor_number):\n",
    "        factor_edge_dict[i] = get_active_edges(H[i,:])\n",
    "        \n",
    "    return factor_edge_dict"
   ]
  },
  {
   "cell_type": "code",
   "execution_count": null,
   "metadata": {},
   "outputs": [],
   "source": [
    "def Factor_to_Variable_message(factor_edge_dict,H,Message):\n",
    "\n",
    "    FV_Message = np.zeros((H.shape))\n",
    "    \n",
    "    ## passing all the factor to variable messages\n",
    "    \n",
    "    factors_number = H.shape[0]\n",
    "    variables_number = H.shape[1]\n",
    "    \n",
    "    ## for every factor\n",
    "    for factor_id in range(factors_number):\n",
    "        \n",
    "        ## find the active factor to variable edges\n",
    "        active_edges = factor_edge_dict.get(factor_id)\n",
    "        \n",
    "        ## for every active factor\n",
    "        for active_factor_index_1 in active_edges:\n",
    "            message_product = 1\n",
    "            ## for every other active factor\n",
    "            for active_factor_index_2 in active_edges:\n",
    "                ## that is no the same with the first one\n",
    "                if(active_factor_index_1 != active_factor_index_2):\n",
    "                    message_product = message_product * np.tanh(Message[factor_id,:][active_factor_index_2]/2)\n",
    "                    \n",
    "            FV_Message[factor_id,active_factor_index_1]=np.log((1+message_product)/(1-message_product))\n",
    "            \n",
    "    return FV_Message"
   ]
  },
  {
   "cell_type": "code",
   "execution_count": null,
   "metadata": {},
   "outputs": [],
   "source": [
    "def Variable_to_Factor_message(var_edge_dict,Ditribution,Message,FV_message,H,iteration):\n",
    "    \n",
    "    Message = np.zeros((H.shape))\n",
    "    \n",
    "    ## compute the initial var to factor message matrix, passing messages from y to H\n",
    "    ## only for the first iteration \n",
    "    if(iteration == 0):    \n",
    "        for i in range(H.shape[0]):\n",
    "            for j in range(H.shape[1]):\n",
    "                Message[i][j] = H[i][j]*Ditribution[j]\n",
    "                \n",
    "        return Message\n",
    "                \n",
    "        \n",
    "    else: ## update the already obtained message matric computing the variable to factor messages\n",
    "        \n",
    "        Message = np.array(Message)\n",
    "        \n",
    "        ## take all the incoming messages apart from the one we are going to send the message to \n",
    "        factor_number,variable_number = FV_message.shape\n",
    "    \n",
    "        for variable_index in range(variable_number):\n",
    "        \n",
    "            ## get the active edges of each variable\n",
    "            active_edges = var_edge_dict.get(variable_index)\n",
    "        \n",
    "            for edge_index_1 in active_edges:\n",
    "                message = 0\n",
    "                for edge_index_2 in active_edges:\n",
    "                    if(edge_index_1!=edge_index_2):\n",
    "                        message = FV_message[:,variable_index][edge_index_2]+message\n",
    "                \n",
    "                Message[edge_index_1,variable_index] = Ditribution[variable_index] + message\n",
    "            \n",
    "        return Message\n",
    "        "
   ]
  },
  {
   "cell_type": "code",
   "execution_count": null,
   "metadata": {},
   "outputs": [],
   "source": [
    "## compute the marginal distribution based on the last factor to variable message\n",
    "def update_message(Ditribution,FV_Message):\n",
    "    \n",
    "    marginal_message = []\n",
    "    \n",
    "    variables_number = FV_Message.shape[1]\n",
    "    \n",
    "    ## for every variable sum all the incoming factor to variable messages\n",
    "    for i in range(variables_number):\n",
    "        ## sum over columns --> variables are denoted with columns\n",
    "        marginal_message.append(Ditribution[i] + np.sum(FV_Message,axis = 0)[i])\n",
    "        \n",
    "    return marginal_message\n",
    "    "
   ]
  },
  {
   "cell_type": "code",
   "execution_count": null,
   "metadata": {},
   "outputs": [],
   "source": [
    "## compute the result of a round based on the last variable to factor message computed\n",
    "## VF message contains real numbers --> convert them into 0,1\n",
    "def compute_result(VF_message):\n",
    "    result = []\n",
    "    for bit in VF_message:\n",
    "        if(bit > 0):\n",
    "            result.append(1)\n",
    "        else:\n",
    "            result.append(0)\n",
    "    return result"
   ]
  },
  {
   "cell_type": "code",
   "execution_count": null,
   "metadata": {},
   "outputs": [],
   "source": [
    "def BinarySymmetricChannel_Initialisation(y, H, p):\n",
    "    \n",
    "    distribution = []\n",
    "    \n",
    "    ## for thr Binary Symmetric Channel the probability log(P(y|x)) = (x-y)(x-y+1)log(p/(1-p))\n",
    "    for i in range(len(y)):\n",
    "        if(y[i]==1):\n",
    "            distribution.append(np.log((1-p)/p))\n",
    "        else:\n",
    "            distribution.append(np.log(p/(1-p)))\n",
    "\n",
    "    return np.array(distribution)"
   ]
  },
  {
   "cell_type": "code",
   "execution_count": null,
   "metadata": {},
   "outputs": [],
   "source": [
    "## check how many erros occur in the decoding we made\n",
    "def parity_check(z):\n",
    "    res = z%2\n",
    "    wrong_bits = np.count_nonzero(res)\n",
    "    if(wrong_bits == 0):\n",
    "        return True,wrong_bits\n",
    "    else:\n",
    "        return False,wrong_bits  "
   ]
  },
  {
   "cell_type": "code",
   "execution_count": null,
   "metadata": {},
   "outputs": [],
   "source": [
    "def LDPC_Decoder(y, H, p=0.1, max_iter=20):\n",
    "    \n",
    "    ## creating to dictionaries\n",
    "    ## defining the active edges of the bipartite graph\n",
    "    ## factor ---> variable edges\n",
    "    ## variable ----> factor edges\n",
    "    var_edge_dict = create_var_edge_dict(H)\n",
    "    factor_edge_dict = create_factor_edge_dict(H)\n",
    "    \n",
    "    \n",
    "    # y: the received codeword matrix\n",
    "    # H: LDPC Matrix\n",
    "    # p: noise ratio\n",
    "    # max_iter: maximum number of iterations of loopy belief propagation algorithm\n",
    "    # Ditribution: p(y|x_n = 0,1) matrix\n",
    "    # FV_message: Factor to Variable message matrix\n",
    "    # VF_message: Variable to Factor message matrix\n",
    "    # Message: Marginal Distribution Message Matrix\n",
    "    \n",
    "    Ditribution = BinarySymmetricChannel_Initialisation(y,H,p)\n",
    "    FV_message = None\n",
    "    Message = None\n",
    "    \n",
    "    ##### PROCEDURE ####################################################################################\n",
    "    ## 1) Variable to factor Messages\n",
    "    ## !!! for the first round the VF message is computed in a special way -- look the VF function\n",
    "    ## 2) Factor to Variable Messages\n",
    "    ## 3) Compute the marginal distribution\n",
    "    ## 4) Check our message\n",
    "    ## 5) Go to 1 and loop over again\n",
    "    #####################################################################################################\n",
    "    \n",
    "    \n",
    "    for i in range(max_iter):\n",
    "        print(\"Iteration \" + str(i + 1))\n",
    "        \n",
    "        ## compute variable to factor message\n",
    "        VF_message = Variable_to_Factor_message(var_edge_dict,Ditribution,Message,FV_message,H,i)\n",
    "        ## compute factor to variable message\n",
    "        FV_message = Factor_to_Variable_message(factor_edge_dict,H,VF_message)\n",
    "        ## compute the marginal distribution of the round\n",
    "        Message = update_message(Ditribution,FV_message)\n",
    "        ## compute the result after the specific iterartion -- binary format\n",
    "        result_of_round = compute_result(Message)\n",
    "        \n",
    "        ## a check needed here in order to determine if have computed a valid codeword\n",
    "        z = H @ result_of_round # z is the syndrome\n",
    "        \n",
    "        ## compute th syndrome in order to detect whether is a wrong bit in the codeword\n",
    "        term_flag,wrong_bits = parity_check(z)\n",
    "        if(term_flag):\n",
    "            print(\"Decoded succesfully!\")\n",
    "            return result_of_round\n",
    "        else:\n",
    "            print(\"Decoding failure with \" + str(wrong_bits) + \" wrong bits\")\n",
    "            if(i == max_iter - 1):\n",
    "                return -1\n",
    "        \n",
    "        "
   ]
  },
  {
   "cell_type": "code",
   "execution_count": null,
   "metadata": {},
   "outputs": [],
   "source": [
    "res = LDPC_Decoder(y,H,p=0.3,max_iter = 90)\n",
    "if(res == -1):\n",
    "    print(\"Failure in decoding!\")"
   ]
  },
  {
   "cell_type": "code",
   "execution_count": null,
   "metadata": {},
   "outputs": [],
   "source": [
    "def recover_message(message):\n",
    "    \n",
    "    ### smash the recover message in words of 8 bits each\n",
    "    ### each word represents a character\n",
    "    ### result is a list of lists, each inner list represents a word/character\n",
    "    flag = True\n",
    "    start_index = 0\n",
    "    result = []\n",
    "    while(flag):\n",
    "        ## append every word\n",
    "        result.append(message[start_index:start_index + 8])\n",
    "        start_index += 8\n",
    "        if(start_index > 248):\n",
    "            flag = False\n",
    "            \n",
    "            \n",
    "    ## convert each word in the corresponding decimal\n",
    "    dec_result = []\n",
    "    for word in result:\n",
    "        w = ''\n",
    "        for bit in word:\n",
    "            w += str(int(bit))\n",
    "        dec_result.append(int(w,2))\n",
    "        \n",
    "    ## convert each decimal to a character based on its ASCII\n",
    "    ## finally concatenate them in order to get the final message\n",
    "    message = ''\n",
    "    for word in dec_result:\n",
    "        message += chr(word)\n",
    "        \n",
    "    return(message)"
   ]
  },
  {
   "cell_type": "code",
   "execution_count": null,
   "metadata": {},
   "outputs": [],
   "source": [
    "print(str(recover_message(res)))"
   ]
  }
 ],
 "metadata": {
  "kernelspec": {
   "display_name": "Python 3",
   "language": "python",
   "name": "python3"
  },
  "language_info": {
   "codemirror_mode": {
    "name": "ipython",
    "version": 3
   },
   "file_extension": ".py",
   "mimetype": "text/x-python",
   "name": "python",
   "nbconvert_exporter": "python",
   "pygments_lexer": "ipython3",
   "version": "3.7.3"
  }
 },
 "nbformat": 4,
 "nbformat_minor": 4
}
