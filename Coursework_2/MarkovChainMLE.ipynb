{
 "cells": [
  {
   "cell_type": "code",
   "execution_count": 54,
   "metadata": {},
   "outputs": [],
   "source": [
    "import numpy as np"
   ]
  },
  {
   "cell_type": "code",
   "execution_count": 55,
   "metadata": {},
   "outputs": [],
   "source": [
    "data_file = \"Data/meteo0.csv\""
   ]
  },
  {
   "cell_type": "code",
   "execution_count": 56,
   "metadata": {},
   "outputs": [],
   "source": [
    "def read_data(data_file):\n",
    "    # Opening file \n",
    "    file = open(data_file) \n",
    "    count = 0\n",
    "    data = []\n",
    "    for line in file: \n",
    "        count += 1\n",
    "        dat = []\n",
    "        line = line.split(\" \")\n",
    "        for d in line:\n",
    "            dat.append(int(d))\n",
    "        data.append(np.array(dat))\n",
    "    \n",
    "    data = np.array(data)\n",
    "  \n",
    "    # Closing files \n",
    "    file.close() \n",
    "    \n",
    "    return data"
   ]
  },
  {
   "cell_type": "code",
   "execution_count": 57,
   "metadata": {},
   "outputs": [],
   "source": [
    "data = read_data(data_file)"
   ]
  },
  {
   "cell_type": "code",
   "execution_count": 58,
   "metadata": {},
   "outputs": [
    {
     "name": "stdout",
     "output_type": "stream",
     "text": [
      "(500, 100)\n"
     ]
    }
   ],
   "source": [
    "print(data.shape)"
   ]
  },
  {
   "cell_type": "code",
   "execution_count": 59,
   "metadata": {},
   "outputs": [],
   "source": [
    "samples_num = data.shape[0]\n",
    "sequence_length = data.shape[1]"
   ]
  },
  {
   "cell_type": "code",
   "execution_count": 60,
   "metadata": {},
   "outputs": [
    {
     "name": "stdout",
     "output_type": "stream",
     "text": [
      "[1 1 1 1 1 1 1 1 1 1 0 1 2 2 2 0 1 1 1 2 2 2 2 1 1 2 1 1 1 1 1 1 1 2 0 0 0\n",
      " 0 0 0 0 1 1 2 2 2 2 2 2 2 2 2 2 0 0 0 0 1 1 1 2 2 2 2 2 2 0 0 0 0 0 0 0 0\n",
      " 1 1 1 1 2 2 2 2 2 2 2 2 2 2 1 2 2 2 1 1 1 1 1 1 1 1]\n"
     ]
    }
   ],
   "source": [
    "print(data[0])"
   ]
  },
  {
   "cell_type": "code",
   "execution_count": 61,
   "metadata": {},
   "outputs": [],
   "source": [
    "## for a given sequence find the number of each possible transition\n",
    "def find_transitions_number(sequence):\n",
    "    transitions_dict = {}\n",
    "    for i in range(0,3):\n",
    "        for j in range(0,3):\n",
    "            #print(\"Transition: \" + str(i) + \" \" + str(j))\n",
    "            transitions_dict[(i,j)] = 0\n",
    "            \n",
    "    for i in range(0,len(sequence)-1):\n",
    "        transitions_dict[sequence[i],sequence[i+1]] += 1\n",
    "        \n",
    "    return transitions_dict"
   ]
  },
  {
   "cell_type": "code",
   "execution_count": 62,
   "metadata": {},
   "outputs": [],
   "source": [
    "## compute the probability of each transition for a given sentence\n",
    "def find_transition_prob(sequence_length,transitions_dict):\n",
    "    for key in transitions_dict:\n",
    "        value = transitions_dict.get(key)\n",
    "        new_value = value/(sequence_length - 1)\n",
    "        transitions_dict[key] = new_value\n",
    "    return transitions_dict"
   ]
  },
  {
   "cell_type": "code",
   "execution_count": 63,
   "metadata": {},
   "outputs": [],
   "source": [
    "def compute_average_transition_probs(dict_list):\n",
    "    overal_probabilities_dict = {}\n",
    "    \n",
    "    for i in range(0,3):\n",
    "        for j in range(0,3):\n",
    "            overal_probabilities_dict[(i,j)] = 0\n",
    "            \n",
    "    for i in range(0,3):\n",
    "        for j in range(0,3):\n",
    "            for proba_dictionary in dict_list:\n",
    "                overal_probabilities_dict[(i,j)] += proba_dictionary.get((i,j))\n",
    "                \n",
    "    for i in range(0,3):\n",
    "        for j in range(0,3):\n",
    "            value = overal_probabilities_dict.get((i,j))\n",
    "            new_value = value/len(dict_list)\n",
    "            overal_probabilities_dict[(i,j)] = new_value*100\n",
    "            \n",
    "    return overal_probabilities_dict"
   ]
  },
  {
   "cell_type": "code",
   "execution_count": 64,
   "metadata": {},
   "outputs": [],
   "source": [
    "def compute_overall_transition_probs(dict_list):\n",
    "    overal_probabilities_dict = {}\n",
    "    \n",
    "    for i in range(0,3):\n",
    "        for j in range(0,3):\n",
    "            overal_probabilities_dict[(i,j)] = 0\n",
    "            \n",
    "    for i in range(0,3):\n",
    "        for j in range(0,3):\n",
    "            for proba_dictionary in dict_list:\n",
    "                overal_probabilities_dict[(i,j)] += proba_dictionary.get((i,j))\n",
    "                \n",
    "    return overal_probabilities_dict"
   ]
  },
  {
   "cell_type": "code",
   "execution_count": 65,
   "metadata": {},
   "outputs": [],
   "source": [
    "transitions_dict = find_transitions_number(data[0])"
   ]
  },
  {
   "cell_type": "code",
   "execution_count": 66,
   "metadata": {},
   "outputs": [
    {
     "name": "stdout",
     "output_type": "stream",
     "text": [
      "{(0, 0): 16, (0, 1): 5, (0, 2): 0, (1, 0): 1, (1, 1): 31, (1, 2): 8, (2, 0): 4, (2, 1): 4, (2, 2): 30}\n"
     ]
    }
   ],
   "source": [
    "print(transitions_dict)"
   ]
  },
  {
   "cell_type": "code",
   "execution_count": 67,
   "metadata": {},
   "outputs": [],
   "source": [
    "transition_probabilities = find_transition_prob(sequence_length,transitions_dict)"
   ]
  },
  {
   "cell_type": "code",
   "execution_count": 68,
   "metadata": {},
   "outputs": [
    {
     "name": "stdout",
     "output_type": "stream",
     "text": [
      "{(0, 0): 0.16161616161616163, (0, 1): 0.050505050505050504, (0, 2): 0.0, (1, 0): 0.010101010101010102, (1, 1): 0.31313131313131315, (1, 2): 0.08080808080808081, (2, 0): 0.04040404040404041, (2, 1): 0.04040404040404041, (2, 2): 0.30303030303030304}\n"
     ]
    }
   ],
   "source": [
    "print(transition_probabilities)"
   ]
  },
  {
   "cell_type": "code",
   "execution_count": 69,
   "metadata": {},
   "outputs": [],
   "source": [
    "dict_list = []\n",
    "for sequence in data:\n",
    "    transitions_dict = find_transitions_number(sequence)\n",
    "    dict_list.append(transitions_dict)"
   ]
  },
  {
   "cell_type": "code",
   "execution_count": 70,
   "metadata": {},
   "outputs": [],
   "source": [
    "overall_dict = compute_overall_transition_probs(dict_list)"
   ]
  },
  {
   "cell_type": "code",
   "execution_count": 71,
   "metadata": {},
   "outputs": [
    {
     "name": "stdout",
     "output_type": "stream",
     "text": [
      "{(0, 0): 8708, (0, 1): 3754, (0, 2): 0, (1, 0): 2252, (1, 1): 15629, (1, 2): 4462, (2, 0): 1480, (2, 1): 2920, (2, 2): 10295}\n"
     ]
    }
   ],
   "source": [
    "print(overall_dict)\n",
    "transition_matrix = np.zeros((3,3))\n",
    "for key in overall_dict:\n",
    "    index_1,index_2 = key\n",
    "    transition_matrix[index_1][index_2] = overall_dict.get(key)"
   ]
  },
  {
   "cell_type": "code",
   "execution_count": 72,
   "metadata": {},
   "outputs": [
    {
     "data": {
      "text/plain": [
       "array([[ 8708.,  3754.,     0.],\n",
       "       [ 2252., 15629.,  4462.],\n",
       "       [ 1480.,  2920., 10295.]])"
      ]
     },
     "execution_count": 72,
     "metadata": {},
     "output_type": "execute_result"
    }
   ],
   "source": [
    "transition_matrix"
   ]
  },
  {
   "cell_type": "code",
   "execution_count": 77,
   "metadata": {},
   "outputs": [],
   "source": [
    "for i in range(3):\n",
    "    for j in range(3):\n",
    "        transition_matrix[i][j] /= np.sum(transition_matrix[:,j])"
   ]
  },
  {
   "cell_type": "code",
   "execution_count": 78,
   "metadata": {},
   "outputs": [
    {
     "data": {
      "text/plain": [
       "array([[1.62266168e-04, 8.48436889e-02, 0.00000000e+00],\n",
       "       [6.03429774e-01, 3.63090464e-01, 2.61466028e-01],\n",
       "       [9.99646623e-01, 7.14944939e-01, 7.66365889e-01]])"
      ]
     },
     "execution_count": 78,
     "metadata": {},
     "output_type": "execute_result"
    }
   ],
   "source": [
    "transition_matrix"
   ]
  }
 ],
 "metadata": {
  "kernelspec": {
   "display_name": "Python 3",
   "language": "python",
   "name": "python3"
  },
  "language_info": {
   "codemirror_mode": {
    "name": "ipython",
    "version": 3
   },
   "file_extension": ".py",
   "mimetype": "text/x-python",
   "name": "python",
   "nbconvert_exporter": "python",
   "pygments_lexer": "ipython3",
   "version": "3.7.3"
  }
 },
 "nbformat": 4,
 "nbformat_minor": 4
}
