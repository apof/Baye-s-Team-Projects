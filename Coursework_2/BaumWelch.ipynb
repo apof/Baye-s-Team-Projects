{
 "cells": [
  {
   "cell_type": "code",
   "execution_count": 119,
   "metadata": {},
   "outputs": [],
   "source": [
    "import csv\n",
    "import matplotlib.pyplot as plt\n",
    "import numpy as np"
   ]
  },
  {
   "cell_type": "code",
   "execution_count": 120,
   "metadata": {},
   "outputs": [],
   "source": [
    "chess_results = []\n",
    "\n",
    "f = open('Data/chess.txt', 'r')\n",
    "for item in f.read():\n",
    "    if item != '\\n':\n",
    "        chess_results.append(int(item))\n",
    "\n",
    "data = np.array(chess_results) \n",
    "\n",
    "Emission_Matrix = np.array([[0.3,0.6,0.1],[0.5,0,0.5]])\n",
    "Initial_Distribution = np.array([[1,0]])\n",
    "Transition_Matrix = np.array([[0.5,0.5], [0.8, 0.2]])"
   ]
  },
  {
   "cell_type": "code",
   "execution_count": 121,
   "metadata": {},
   "outputs": [
    {
     "name": "stdout",
     "output_type": "stream",
     "text": [
      "(1000,)\n",
      "(2, 3)\n",
      "(1, 2)\n",
      "(2, 2)\n"
     ]
    }
   ],
   "source": [
    "print(data.shape)\n",
    "print(Emission_Matrix.shape)\n",
    "print(Initial_Distribution.shape)\n",
    "print(Transition_Matrix.shape)"
   ]
  },
  {
   "cell_type": "code",
   "execution_count": 122,
   "metadata": {},
   "outputs": [
    {
     "name": "stdout",
     "output_type": "stream",
     "text": [
      "1.0\n"
     ]
    }
   ],
   "source": [
    "print(np.sum(Transition_Matrix[0,:]))"
   ]
  },
  {
   "cell_type": "code",
   "execution_count": 123,
   "metadata": {},
   "outputs": [],
   "source": [
    "def forward(V, A, T, initial_dist):\n",
    "    alpha = np.zeros((V.shape[0], T.shape[0]))\n",
    "    alpha[0,:] = initial_dist*A[:,V[0]]\n",
    "    alpha[0,:] = alpha[0,:]/np.sum(alpha[0,:])\n",
    "    \n",
    "    for t in range(1, V.shape[0]):\n",
    "        for j in range(T.shape[0]):\n",
    "            alpha[t,j] = alpha[t-1]@T[:,j]*A[j,V[t]]\n",
    "        \n",
    "        alpha[t,:] = alpha[t,:]/np.sum(alpha[t,:])\n",
    "    \n",
    "    return alpha"
   ]
  },
  {
   "cell_type": "code",
   "execution_count": 124,
   "metadata": {},
   "outputs": [],
   "source": [
    "def backward(V, A, T):\n",
    "    beta = np.zeros((V.shape[0], T.shape[0]))\n",
    "    beta[V.shape[0] - 1,:] = np.ones((T.shape[0]))\n",
    "    beta[V.shape[0] - 1,:] = beta[V.shape[0] - 1,:]/np.sum(beta[V.shape[0] - 1,:])\n",
    "    \n",
    "    for t in range(V.shape[0] -2, -1, -1):\n",
    "        for j in range(T.shape[0]):\n",
    "            beta[t,j]=(beta[t+1]* A[:,V[t+1]])@T[j,:]\n",
    "    \n",
    "        beta[t,:] = beta[t,:]/np.sum(beta[t,:])\n",
    "    return beta"
   ]
  },
  {
   "cell_type": "code",
   "execution_count": 125,
   "metadata": {},
   "outputs": [],
   "source": [
    "def EM(V,A,T,initial_dist):\n",
    "    \n",
    "    top_term = np.zeros((T.shape[0]))\n",
    "    updated_transition_matrix = np.zeros((T.shape[0],T.shape[0]))\n",
    "    \n",
    "    alpha = forward(V,A,T,initial_dist)\n",
    "    beta = backward(V,A,T)\n",
    "    \n",
    "    ## Expection Step\n",
    "    for i in range(V.shape[0]-1):\n",
    "        \n",
    "        ## compute the responsibility for each sample\n",
    "        response = np.ones((T.shape[0],T.shape[0]))\n",
    "        \n",
    "        for t in range(T.shape[0]):\n",
    "            for t_plus in range(T.shape[0]):\n",
    "                response[t][t_plus] = alpha[i][t]*beta[i+1][t_plus]*A[t_plus][V[i+1]]*T[t][t_plus]\n",
    "                \n",
    "        ## normalise the responsibility for the sample\n",
    "        response /= np.sum(np.sum(response))\n",
    "        ## add the resposibilities (compute the top term of th Maximisation Step)\n",
    "        top_term = np.add(top_term,response)  \n",
    "    \n",
    "    ## Compute the bottom term of the maximisation step\n",
    "    bottom_term = np.zeros((T.shape[0]))\n",
    "    bottom_term = np.sum(top_term,axis = 1)\n",
    "    ## Maximisation step\n",
    "    updated_transition_matrix[0,:] =  top_term[0,:]/bottom_term[0]\n",
    "    updated_transition_matrix[1,:] =  top_term[1,:]/bottom_term[1]\n",
    "                                                                 \n",
    "    return updated_transition_matrix"
   ]
  },
  {
   "cell_type": "code",
   "execution_count": 126,
   "metadata": {},
   "outputs": [],
   "source": [
    "def WaumBelch(V,A,T,initial_dist):\n",
    "    for i in range(100):\n",
    "        T = EM(V,A,T,initial_dist)\n",
    "    return T"
   ]
  },
  {
   "cell_type": "code",
   "execution_count": 127,
   "metadata": {},
   "outputs": [],
   "source": [
    "updated_transition_matrix = WaumBelch(data,Emission_Matrix,Transition_Matrix,Initial_Distribution)"
   ]
  },
  {
   "cell_type": "code",
   "execution_count": 128,
   "metadata": {},
   "outputs": [
    {
     "name": "stdout",
     "output_type": "stream",
     "text": [
      "1.0\n",
      "1.0\n"
     ]
    }
   ],
   "source": [
    "print(np.sum(updated_transition_matrix[0,:]))\n",
    "print(np.sum(updated_transition_matrix[1,:]))"
   ]
  },
  {
   "cell_type": "code",
   "execution_count": 129,
   "metadata": {},
   "outputs": [
    {
     "data": {
      "text/plain": [
       "array([[0.83258179, 0.16741821],\n",
       "       [0.0723181 , 0.9276819 ]])"
      ]
     },
     "execution_count": 129,
     "metadata": {},
     "output_type": "execute_result"
    }
   ],
   "source": [
    "updated_transition_matrix"
   ]
  }
 ],
 "metadata": {
  "kernelspec": {
   "display_name": "Python 3",
   "language": "python",
   "name": "python3"
  },
  "language_info": {
   "codemirror_mode": {
    "name": "ipython",
    "version": 3
   },
   "file_extension": ".py",
   "mimetype": "text/x-python",
   "name": "python",
   "nbconvert_exporter": "python",
   "pygments_lexer": "ipython3",
   "version": "3.7.3"
  }
 },
 "nbformat": 4,
 "nbformat_minor": 4
}
