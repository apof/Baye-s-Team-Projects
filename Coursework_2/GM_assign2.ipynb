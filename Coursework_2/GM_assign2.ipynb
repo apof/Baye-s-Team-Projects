{
 "cells": [
  {
   "cell_type": "markdown",
   "metadata": {},
   "source": [
    "# Question 0 "
   ]
  },
  {
   "cell_type": "code",
   "execution_count": 1,
   "metadata": {},
   "outputs": [],
   "source": [
    "import csv\n",
    "import matplotlib.pyplot as plt\n",
    "import numpy as np"
   ]
  },
  {
   "cell_type": "markdown",
   "metadata": {},
   "source": [
    "# Max likelihood estimation\n",
    "In this case we need to add up the times it swithced between a the states.\n",
    "\n",
    "Questions: I have summed over all rows and columns this may not be true? do we do one then the other?"
   ]
  },
  {
   "cell_type": "code",
   "execution_count": 2,
   "metadata": {},
   "outputs": [],
   "source": [
    "N = 500\n",
    "T = 100\n",
    "\n",
    "data_file = 'meteo0.csv'\n",
    "data = np.ones((N, T))\n",
    "with open(data_file) as csvDataFile:\n",
    "    csvReader = csv.reader(csvDataFile, delimiter =' ')\n",
    "    count=0\n",
    "    for row in csvReader:\n",
    "        for n in range(len(row)):\n",
    "            data[count, n] = row[n]\n",
    "        count +=1   "
   ]
  },
  {
   "cell_type": "code",
   "execution_count": 3,
   "metadata": {},
   "outputs": [
    {
     "name": "stdout",
     "output_type": "stream",
     "text": [
      "154 256 90\n",
      "[0.308, 0.512, 0.18]\n"
     ]
    }
   ],
   "source": [
    "p_v1_0 = np.sum([data[:,0] == 0])\n",
    "p_v1_1 = np.sum([data[:,0] == 1])\n",
    "p_v1_2 = np.sum([data[:,0] == 2])\n",
    "print(p_v1_0, p_v1_1,p_v1_2)\n",
    "\n",
    "p_v1 = [p_v1_0/N, p_v1_1/N, p_v1_2/N]\n",
    "print(p_v1)"
   ]
  },
  {
   "cell_type": "code",
   "execution_count": 4,
   "metadata": {},
   "outputs": [
    {
     "name": "stdout",
     "output_type": "stream",
     "text": [
      "[[0.7        0.16831816 0.        ]\n",
      " [0.18102894 0.70075775 0.30236498]\n",
      " [0.11897106 0.13092409 0.69763502]]\n"
     ]
    }
   ],
   "source": [
    "### p(vt+1 = 0| vt =1)\n",
    "A = np.zeros((3,3))\n",
    "\n",
    "for i in range(N):\n",
    "    for j in range(T-1):\n",
    "        A[int(data[i,j]), int(data[i,j+1])] += 1/N\n",
    "\n",
    "\n",
    "for i in range(3):\n",
    "    A[:,i] = A[:,i]/np.sum(A[:,i])\n",
    "\n",
    "print(A)       "
   ]
  },
  {
   "cell_type": "markdown",
   "metadata": {},
   "source": [
    "# Question 2\n",
    "\n",
    "forward backward algorithm\n"
   ]
  },
  {
   "cell_type": "code",
   "execution_count": 5,
   "metadata": {},
   "outputs": [
    {
     "name": "stdout",
     "output_type": "stream",
     "text": [
      "[[1.         0.        ]\n",
      " [1.         0.        ]\n",
      " [0.50239234 0.49760766]\n",
      " [0.29824561 0.70175439]\n",
      " [0.73205742 0.26794258]\n",
      " [0.17065391 0.82934609]\n",
      " [1.         0.        ]\n",
      " [0.48837209 0.51162791]\n",
      " [0.34108527 0.65891473]\n",
      " [0.59302326 0.40697674]]\n"
     ]
    }
   ],
   "source": [
    "V = np.array([0, 1, 0, 2, 0, 2, 1, 0, 2, 0])\n",
    "#Emmission\n",
    "A = np.array([[0.3, 0.5], [0.6,0],[0.1,0.5]])\n",
    "#Transition\n",
    "T = np.array([[0.5,0.8], [0.5, 0.2]])\n",
    "\n",
    "initial_dist = np.array([[1,0]])\n",
    "\n",
    "\n",
    "def forward(V, A, T, initial_dist):\n",
    "    alpha = np.zeros((V.shape[0], T.shape[0]))\n",
    "    alpha[0,:] = initial_dist*A[V[0],:]\n",
    "    alpha[0,:] = alpha[0,:]/np.sum(alpha[0,:])\n",
    "    \n",
    "    for t in range(1, V.shape[0]):\n",
    "        for j in range(T.shape[0]):\n",
    "            alpha[t,j] = alpha[t-1]@T[j,:]*A[V[t], j]\n",
    "        \n",
    "        alpha[t,:] = alpha[t,:]/np.sum(alpha[t,:])\n",
    "    \n",
    "    return alpha\n",
    "\n",
    "alpha = forward(V,A,T, initial_dist)\n",
    "\n",
    "def backward(V, A, T):\n",
    "    beta = np.zeros((V.shape[0], T.shape[0]))\n",
    "    beta[V.shape[0] - 1,:] = np.ones((T.shape[0]))\n",
    "    beta[V.shape[0] - 1,:] = beta[V.shape[0] - 1,:]/np.sum(beta[V.shape[0] - 1,:])\n",
    "    \n",
    "    for t in range(V.shape[0] -2, -1, -1):\n",
    "        for j in range(T.shape[0]):\n",
    "            beta[t,j]=(beta[t+1]* A[V[t+1],:])@T[:,j]\n",
    "    \n",
    "        beta[t,:] = beta[t,:]/np.sum(beta[t,:])\n",
    "    return beta\n",
    "\n",
    "beta = backward(V,A,T)\n",
    "\n",
    "p_ht = np.zeros((T.shape[0],V.shape[0]))\n",
    "\n",
    "for t in range(0,V.shape[0]):\n",
    "    p_ht[0,t] = alpha[t,0]*beta[t,0] #*A[V[t],0]\n",
    "    p_ht[1,t] = alpha[t,1]*beta[t,1] #*A[V[t],1]\n",
    "\n",
    "\n",
    "p_ht = (p_ht/np.sum(p_ht, axis = 0)).T\n",
    "print(p_ht)\n",
    "    "
   ]
  },
  {
   "cell_type": "code",
   "execution_count": 6,
   "metadata": {},
   "outputs": [
    {
     "name": "stdout",
     "output_type": "stream",
     "text": [
      "1.0\n",
      "1.0000000000000002\n"
     ]
    }
   ],
   "source": [
    "p_h1_h2 = np.zeros(T.shape)\n",
    "p_h4_h5 = np.zeros(T.shape)\n",
    "\n",
    "for i in range(p_h1_h2.shape[0]):\n",
    "    for j in range(p_h1_h2.shape[1]):\n",
    "        p_h1_h2[i,j] = alpha[0,i]* beta[1, j]*T[i,j]*A[V[1],j] #*A[V[0],i]\n",
    "        p_h4_h5[i,j] = alpha[3,i]* beta[4, j]*T[i,j]*A[V[4],j] #*A[V[3],i]\n",
    "\n",
    "p_h1_h2=p_h1_h2/np.sum(p_h1_h2)\n",
    "print(np.sum(np.sum(p_h1_h2)))\n",
    "p_h4_h5 = p_h4_h5/np.sum(p_h4_h5)\n",
    "print(np.sum(np.sum(p_h4_h5)))"
   ]
  },
  {
   "cell_type": "markdown",
   "metadata": {},
   "source": [
    "# EM algorithm"
   ]
  },
  {
   "cell_type": "code",
   "execution_count": 7,
   "metadata": {},
   "outputs": [],
   "source": [
    "def log_like(x):\n",
    "    c=x.max()\n",
    "    return c + np.log2(np.sum(np.exp(x-c)))\n"
   ]
  },
  {
   "cell_type": "code",
   "execution_count": 8,
   "metadata": {},
   "outputs": [],
   "source": [
    "def calcLogLike(V, A, TEst, initial_dist):\n",
    "    \"\"\"\n",
    "    logLike = 0\n",
    "    like = np.zeros((2,len(V)))\n",
    "    \n",
    "    for t in range(len(V)):\n",
    "        for i in range(2):\n",
    "            for j in range(2):\n",
    "                like\n",
    "    \n",
    "    \"\"\"\n",
    "    epsilon = 0.0001\n",
    "    logLike = 0\n",
    "    \n",
    "    for i in range(2):\n",
    "        if initial_dist[0, i]*A[V[0],i] > 0+epsilon:\n",
    "            logLike += np.log(initial_dist[0, i]*A[V[0],i])\n",
    "            \n",
    "    for t in range(1,len(V)):\n",
    "        for i in range(2):\n",
    "            if A[V[t],i]>0+epsilon:\n",
    "                logLike += np.log(A[V[t],i])\n",
    "            for j in range(2):\n",
    "                if TEst[i,j]>0+epsilon:\n",
    "                    logLike += np.log(TEst[i,j])\n",
    "    \n",
    "    logLike = log_like(logLike)\n",
    "    \n",
    "    \n",
    "    return logLike\n",
    "\n",
    "    "
   ]
  },
  {
   "cell_type": "code",
   "execution_count": 25,
   "metadata": {},
   "outputs": [],
   "source": [
    "def baum_welch(data, A, initial_dist):\n",
    "    #Intialise transition matrxix to update\n",
    "    #T = np.array([[0.4,0.7], [0.6, 0.3]])\n",
    "    T = np.array([[0.5,0.8], [0.5, 0.2]])\n",
    "    ndata = data.shape[0]\n",
    "    \n",
    "    response = np.zeros((2,2,ndata))\n",
    "    \n",
    "    #response[:,0] = initial_dist[0]\n",
    "    loglikes=[]\n",
    "    \n",
    "    loglikes.append(calcLogLike(data, A, T, initial_dist))\n",
    "    #print(loglikes[0])\n",
    "    nIter = 0\n",
    "    running = True\n",
    "    while running:\n",
    "        #E step - update the probability distribtuion p(ht, ht+1|v, \\theta)\n",
    "        #Given the current T we want to update the posterior dist on hts\n",
    "        \n",
    "        alpha = forward(data, A, T, initial_dist)\n",
    "        beta = backward(data, A, T)\n",
    "        \n",
    "        \n",
    "        for t in range(0,ndata-1):\n",
    "            for i in range(2):\n",
    "                for j in range(2):\n",
    "                    response[i,j,t] = alpha[t,i]*beta[t+1, j]*T[i,j]*A[data[t+1],j] #*A[data[t],i]\n",
    "                    \n",
    "            summond = np.sum(response[:,:,t], axis=0)\n",
    "            summond[summond==0]=1\n",
    "            \n",
    "            response[:,:,t] = response[:,:,t]/summond\n",
    "\n",
    "        \n",
    "        #M step - update parameters for T\n",
    "        T_dum = np.zeros(T.shape)\n",
    "        \n",
    "        response_i = np.zeros((2, ndata))\n",
    "        \n",
    "        for t in range(ndata):\n",
    "            for j in range(2):\n",
    "                response_i[:,t] += response[:,j,t]\n",
    "            \n",
    "        \n",
    "        for i in range(2):\n",
    "            for j in range(2): \n",
    "                bottom = 0\n",
    "                top = 0\n",
    "                for t in range(0, ndata-1):\n",
    "                    top += response[i,j, t]\n",
    "                    bottom += response_i[i,t]\n",
    "                \n",
    "                T_dum[i,j] =  top/bottom                                   \n",
    "             \n",
    "        T_dum[:,0] = T_dum[:,0]/np.sum(T_dum[:,0]) \n",
    "        T_dum[:,1] = T_dum[:,1]/np.sum(T_dum[:,1])                                                \n",
    "        \n",
    "        \n",
    "        if (np.linalg.norm(T - T_dum)==0) or nIter == 120:\n",
    "            running =False\n",
    "        nIter += 1  \n",
    "        \n",
    "        T = T_dum\n",
    "        \n",
    "        #print(T)\n",
    "        loglike = calcLogLike(data, A, T, initial_dist)\n",
    "        #print(loglike)\n",
    "        loglikes.append(loglike)\n",
    "    \n",
    "    x = np.arange(nIter+1)\n",
    "    plt.plot(x,loglikes)\n",
    "    \n",
    "    print(nIter)\n",
    "    \n",
    "    return T "
   ]
  },
  {
   "cell_type": "code",
   "execution_count": 26,
   "metadata": {},
   "outputs": [
    {
     "name": "stdout",
     "output_type": "stream",
     "text": [
      "91\n"
     ]
    },
    {
     "data": {
      "image/png": "[encoded data removed]",
      "text/plain": [
       "<Figure size 432x288 with 1 Axes>"
      ]
     },
     "metadata": {
      "needs_background": "light"
     },
     "output_type": "display_data"
    }
   ],
   "source": [
    "chess_results = []\n",
    "\n",
    "f = open('chess.txt', 'r')\n",
    "for item in f.read():\n",
    "    if item != '\\n':\n",
    "        chess_results.append(int(item))\n",
    "\n",
    "chess_results = np.array(chess_results) \n",
    "\n",
    "A = np.array([[0.3, 0.5], [0.6,0],[0.1,0.5]])\n",
    "\n",
    "initial_dist = np.array([[1,0]])\n",
    "\n",
    "forward(chess_results, A, np.array([[0.5,0.8], [0.5, 0.2]]), initial_dist)\n",
    "\n",
    "T = baum_welch(chess_results, A, initial_dist)"
   ]
  },
  {
   "cell_type": "code",
   "execution_count": 27,
   "metadata": {},
   "outputs": [
    {
     "name": "stdout",
     "output_type": "stream",
     "text": [
      "[[0.56261703 0.41859284]\n",
      " [0.43738297 0.58140716]]\n"
     ]
    }
   ],
   "source": [
    "print(T)\n",
    "#print(chess_results)"
   ]
  },
  {
   "cell_type": "code",
   "execution_count": 13,
   "metadata": {},
   "outputs": [
    {
     "name": "stdout",
     "output_type": "stream",
     "text": [
      "0\n",
      "1\n",
      "1\n",
      "0\n"
     ]
    }
   ],
   "source": [
    "a = forward(chess_results, A, T, initial_dist)\n",
    "b = backward(chess_results, A, T)\n",
    "V = chess_results\n",
    "\n",
    "p_h1000 =[]\n",
    "p_h1000.append(a[1000-1,0]*b[1000-1,0]*A[V[1000-1],0])\n",
    "p_h1000.append(a[1000-1,1]*b[1000-1,1]*A[V[1000-1],1])\n",
    "\n",
    "print(V[999])\n",
    "h1000 = np.argmax(p_h1000)\n",
    "print(h1000)\n",
    "h1001 = np.argmax(T[h1000,:])\n",
    "print(h1001)\n",
    "\n",
    "v1001 = np.argmax(A[:,h1001])\n",
    "print(v1001) #50 50 whether visible  is 0 or 2"
   ]
  }
 ],
 "metadata": {
  "kernelspec": {
   "display_name": "Python 3",
   "language": "python",
   "name": "python3"
  },
  "language_info": {
   "codemirror_mode": {
    "name": "ipython",
    "version": 3
   },
   "file_extension": ".py",
   "mimetype": "text/x-python",
   "name": "python",
   "nbconvert_exporter": "python",
   "pygments_lexer": "ipython3",
   "version": "3.7.3"
  }
 },
 "nbformat": 4,
 "nbformat_minor": 4
}
