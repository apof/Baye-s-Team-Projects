{
 "cells": [
  {
   "cell_type": "code",
   "execution_count": 1,
   "metadata": {},
   "outputs": [],
   "source": [
    "import numpy as np"
   ]
  },
  {
   "cell_type": "code",
   "execution_count": 2,
   "metadata": {},
   "outputs": [
    {
     "data": {
      "text/plain": [
       "array([[0.5, 0.8],\n",
       "       [0.5, 0.2]])"
      ]
     },
     "execution_count": 2,
     "metadata": {},
     "output_type": "execute_result"
    }
   ],
   "source": [
    "transition_mat = np.array([[0.5, 0.8], [0.5, 0.2]])\n",
    "transition_mat"
   ]
  },
  {
   "cell_type": "code",
   "execution_count": 3,
   "metadata": {},
   "outputs": [
    {
     "data": {
      "text/plain": [
       "array([[0.3, 0.5],\n",
       "       [0.6, 0. ],\n",
       "       [0.1, 0.5]])"
      ]
     },
     "execution_count": 3,
     "metadata": {},
     "output_type": "execute_result"
    }
   ],
   "source": [
    "emission_mat = np.array([[0.3, 0.5], [0.6, 0],[0.1, 0.5]])\n",
    "emission_mat"
   ]
  },
  {
   "cell_type": "code",
   "execution_count": 4,
   "metadata": {
    "scrolled": true
   },
   "outputs": [
    {
     "data": {
      "text/plain": [
       "array([[1, 0]])"
      ]
     },
     "execution_count": 4,
     "metadata": {},
     "output_type": "execute_result"
    }
   ],
   "source": [
    "initial_state_prob = np.array([[1, 0]])\n",
    "initial_state_prob"
   ]
  },
  {
   "cell_type": "code",
   "execution_count": 5,
   "metadata": {},
   "outputs": [
    {
     "data": {
      "text/plain": [
       "array([0, 1, 0, 2, 0, 2, 1, 0, 2, 0])"
      ]
     },
     "execution_count": 5,
     "metadata": {},
     "output_type": "execute_result"
    }
   ],
   "source": [
    "v = np.array([0,1,0,2,0,2,1,0,2,0])\n",
    "v"
   ]
  },
  {
   "cell_type": "code",
   "execution_count": 6,
   "metadata": {},
   "outputs": [],
   "source": [
    "alpha = np.zeros((10,2))\n",
    "for i in range(10):\n",
    "    if i == 0:\n",
    "        alpha[i,:] = emission_mat[v[i],:] * initial_state_prob \n",
    "    else:\n",
    "        alpha[i,:] = emission_mat[v[i],:] * (transition_mat @ alpha[i-1,:]) "
   ]
  },
  {
   "cell_type": "code",
   "execution_count": 7,
   "metadata": {
    "scrolled": true
   },
   "outputs": [
    {
     "data": {
      "text/plain": [
       "array([[3.00000000e-01, 0.00000000e+00],\n",
       "       [9.00000000e-02, 0.00000000e+00],\n",
       "       [1.35000000e-02, 2.25000000e-02],\n",
       "       [2.47500000e-03, 5.62500000e-03],\n",
       "       [1.72125000e-03, 1.18125000e-03],\n",
       "       [1.80562500e-04, 5.48437500e-04],\n",
       "       [3.17418750e-04, 0.00000000e+00],\n",
       "       [4.76128125e-05, 7.93546875e-05],\n",
       "       [8.72901563e-06, 1.98386719e-05],\n",
       "       [6.07063359e-06, 4.16612109e-06]])"
      ]
     },
     "execution_count": 7,
     "metadata": {},
     "output_type": "execute_result"
    }
   ],
   "source": [
    "alpha"
   ]
  },
  {
   "cell_type": "code",
   "execution_count": 76,
   "metadata": {},
   "outputs": [
    {
     "data": {
      "text/plain": [
       "(array([0.82451335, 0.5658425 ]), 7.362686819181889e-06)"
      ]
     },
     "execution_count": 76,
     "metadata": {},
     "output_type": "execute_result"
    }
   ],
   "source": [
    "alpha_10 = alpha[9,:]\n",
    "end_alpha = alpha_10/np.linalg.norm(alpha_10)\n",
    "end_alpha, np.linalg.norm(alpha_10)"
   ]
  },
  {
   "cell_type": "code",
   "execution_count": 10,
   "metadata": {},
   "outputs": [],
   "source": [
    "def forward(V, A, T, I):\n",
    "    alpha = np.zeros((V.shape[0], T.shape[0]))\n",
    "    for i in range(V.shape[0]):\n",
    "        if i == 0:\n",
    "            alpha[i,:] = A[V[i],:] * I\n",
    "        else:     \n",
    "            alpha[i,:] = A[V[i],:] * (T @ alpha[i-1,:])\n",
    "    return alpha"
   ]
  },
  {
   "cell_type": "code",
   "execution_count": 12,
   "metadata": {},
   "outputs": [],
   "source": [
    "alpha = forward(v, emission_mat, transition_mat, initial_state_prob)"
   ]
  },
  {
   "cell_type": "code",
   "execution_count": 14,
   "metadata": {},
   "outputs": [
    {
     "data": {
      "text/plain": [
       "array([[3.00000000e-01, 0.00000000e+00],\n",
       "       [9.00000000e-02, 0.00000000e+00],\n",
       "       [1.35000000e-02, 2.25000000e-02],\n",
       "       [2.47500000e-03, 5.62500000e-03],\n",
       "       [1.72125000e-03, 1.18125000e-03],\n",
       "       [1.80562500e-04, 5.48437500e-04],\n",
       "       [3.17418750e-04, 0.00000000e+00],\n",
       "       [4.76128125e-05, 7.93546875e-05],\n",
       "       [8.72901563e-06, 1.98386719e-05],\n",
       "       [6.07063359e-06, 4.16612109e-06]])"
      ]
     },
     "execution_count": 14,
     "metadata": {},
     "output_type": "execute_result"
    }
   ],
   "source": [
    "alpha"
   ]
  },
  {
   "cell_type": "code",
   "execution_count": 83,
   "metadata": {},
   "outputs": [],
   "source": [
    "def backward(V,A,T):\n",
    "    beta = np.zeros((V.shape[0], T.shape[0]))\n",
    "    for i in range(V.shape[0]):\n",
    "        if i == 0:\n",
    "            beta[i,:] = [1,1]\n",
    "        else:\n",
    "            beta[i,:] = np.transpose(T) @ (A[v[10-i],:]*beta[i-1,:])\n",
    "    return beta"
   ]
  },
  {
   "cell_type": "code",
   "execution_count": 84,
   "metadata": {},
   "outputs": [
    {
     "data": {
      "text/plain": [
       "array([[1.00000000e+00, 1.00000000e+00],\n",
       "       [4.00000000e-01, 3.40000000e-01],\n",
       "       [1.05000000e-01, 6.60000000e-02],\n",
       "       [3.22500000e-02, 3.18000000e-02],\n",
       "       [9.67500000e-03, 1.54800000e-02],\n",
       "       [4.35375000e-03, 2.32200000e-03],\n",
       "       [1.23356250e-03, 1.27710000e-03],\n",
       "       [3.80953125e-04, 2.26395000e-04],\n",
       "       [1.13741719e-04, 1.14068250e-04],\n",
       "       [3.41225156e-05, 5.45960250e-05]])"
      ]
     },
     "execution_count": 84,
     "metadata": {},
     "output_type": "execute_result"
    }
   ],
   "source": [
    "beta = backward(v, emission_mat, transition_mat)\n",
    "beta "
   ]
  },
  {
   "cell_type": "code",
   "execution_count": null,
   "metadata": {},
   "outputs": [],
   "source": []
  }
 ],
 "metadata": {
  "kernelspec": {
   "display_name": "Python 3",
   "language": "python",
   "name": "python3"
  },
  "language_info": {
   "codemirror_mode": {
    "name": "ipython",
    "version": 3
   },
   "file_extension": ".py",
   "mimetype": "text/x-python",
   "name": "python",
   "nbconvert_exporter": "python",
   "pygments_lexer": "ipython3",
   "version": "3.8.3"
  }
 },
 "nbformat": 4,
 "nbformat_minor": 4
}
