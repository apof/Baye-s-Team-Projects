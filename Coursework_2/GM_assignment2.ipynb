{
 "cells": [
  {
   "cell_type": "markdown",
   "metadata": {},
   "source": [
    "# Question 0"
   ]
  },
  {
   "cell_type": "code",
   "execution_count": 10,
   "metadata": {},
   "outputs": [],
   "source": [
    "import csv\n",
    "import matplotlib.pyplot as plt\n",
    "import numpy as np"
   ]
  },
  {
   "cell_type": "code",
   "execution_count": 11,
   "metadata": {},
   "outputs": [],
   "source": [
    "N = 500\n",
    "T = 100\n",
    "\n",
    "data_file = 'meteo0.csv'\n",
    "data = np.ones((N, T))\n",
    "with open(data_file) as csvDataFile:\n",
    "    csvReader = csv.reader(csvDataFile, delimiter =' ')\n",
    "    count=0\n",
    "    for row in csvReader:\n",
    "        for n in range(len(row)):\n",
    "            data[count, n] = row[n]\n",
    "        count +=1  "
   ]
  },
  {
   "cell_type": "code",
   "execution_count": 12,
   "metadata": {},
   "outputs": [
    {
     "name": "stdout",
     "output_type": "stream",
     "text": [
      "[0.308, 0.512, 0.18]\n"
     ]
    }
   ],
   "source": [
    "p_v1_0 = np.sum([data[:,0] == 0])\n",
    "p_v1_1 = np.sum([data[:,0] == 1])\n",
    "p_v1_2 = np.sum([data[:,0] == 2])\n",
    "b\n",
    "p_v1 = [p_v1_0/N, p_v1_1/N, p_v1_2/N]\n",
    "print(p_v1)"
   ]
  },
  {
   "cell_type": "code",
   "execution_count": 13,
   "metadata": {},
   "outputs": [
    {
     "name": "stdout",
     "output_type": "stream",
     "text": [
      "[[0.67702285 0.17445944 0.        ]\n",
      " [0.1926048  0.69202978 0.31957168]\n",
      " [0.13037236 0.13351079 0.68042832]]\n"
     ]
    }
   ],
   "source": [
    "A = np.zeros((3,3, N))\n",
    "\n",
    "for i in range(N):\n",
    "    for j in range(T-1):\n",
    "        A[int(data[i,j]), int(data[i,j+1]), i] += 1\n",
    "    A[:,:,i] = A[:,:,i]/np.sum(A[:,:,i], axis=0)\n",
    "\n",
    "E = np.sum(A, axis=2)/N\n",
    "print(E)"
   ]
  },
  {
   "cell_type": "markdown",
   "metadata": {},
   "source": [
    "# Question 2"
   ]
  },
  {
   "cell_type": "code",
   "execution_count": 1,
   "metadata": {},
   "outputs": [],
   "source": [
    "import csv\n",
    "import matplotlib.pyplot as plt\n",
    "import numpy as np"
   ]
  },
  {
   "cell_type": "code",
   "execution_count": 2,
   "metadata": {},
   "outputs": [
    {
     "name": "stdout",
     "output_type": "stream",
     "text": [
      "[[1.         0.        ]\n",
      " [1.         0.        ]\n",
      " [0.50239234 0.49760766]\n",
      " [0.29824561 0.70175439]\n",
      " [0.73205742 0.26794258]\n",
      " [0.17065391 0.82934609]\n",
      " [1.         0.        ]\n",
      " [0.48837209 0.51162791]\n",
      " [0.34108527 0.65891473]\n",
      " [0.59302326 0.40697674]]\n"
     ]
    }
   ],
   "source": [
    "V = np.array([0, 1, 0, 2, 0, 2, 1, 0, 2, 0])\n",
    "#Emmission\n",
    "A = np.array([[0.3, 0.5], [0.6,0],[0.1,0.5]])\n",
    "#Transition\n",
    "T = np.array([[0.5,0.8], [0.5, 0.2]])\n",
    "\n",
    "initial_dist = np.array([[1,0]])\n",
    "\n",
    "\n",
    "def forward(V, A, T, initial_dist):\n",
    "    alpha = np.zeros((V.shape[0], T.shape[0]))\n",
    "    alpha[0,:] = initial_dist*A[V[0],:]\n",
    "    alpha[0,:] = alpha[0,:]/np.sum(alpha[0,:])\n",
    "    \n",
    "    for t in range(1, V.shape[0]):\n",
    "        for j in range(T.shape[0]):\n",
    "            alpha[t,j] = alpha[t-1]@T[j,:]*A[V[t], j]\n",
    "        \n",
    "        alpha[t,:] = alpha[t,:]/np.sum(alpha[t,:])\n",
    "    \n",
    "    return alpha\n",
    "\n",
    "alpha = forward(V,A,T, initial_dist)\n",
    "\n",
    "def backward(V, A, T):\n",
    "    beta = np.zeros((V.shape[0], T.shape[0]))\n",
    "    beta[V.shape[0] - 1,:] = np.ones((T.shape[0]))\n",
    "    beta[V.shape[0] - 1,:] = beta[V.shape[0] - 1,:]/np.sum(beta[V.shape[0] - 1,:])\n",
    "    \n",
    "    for t in range(V.shape[0] -2, -1, -1):\n",
    "        for j in range(T.shape[0]):\n",
    "            beta[t,j]=(beta[t+1]* A[V[t+1],:])@T[:,j]\n",
    "    \n",
    "        beta[t,:] = beta[t,:]/np.sum(beta[t,:])\n",
    "    return beta\n",
    "\n",
    "beta = backward(V,A,T)\n",
    "\n",
    "p_ht = np.zeros((T.shape[0],V.shape[0]))\n",
    "\n",
    "for t in range(0,V.shape[0]):\n",
    "    p_ht[0,t] = alpha[t,0]*beta[t,0] #*A[V[t],0]\n",
    "    p_ht[1,t] = alpha[t,1]*beta[t,1] #*A[V[t],1]\n",
    "\n",
    "\n",
    "\n",
    "p_ht = (p_ht/np.sum(p_ht, axis = 0)).T\n",
    "print(p_ht)\n",
    "    "
   ]
  },
  {
   "cell_type": "code",
   "execution_count": 3,
   "metadata": {},
   "outputs": [
    {
     "name": "stdout",
     "output_type": "stream",
     "text": [
      "[[1. 0.]\n",
      " [0. 0.]]\n",
      "[[0.18171806 0.25844347]\n",
      " [0.41299559 0.14684288]]\n"
     ]
    }
   ],
   "source": [
    "p_h1_h2 = np.zeros(T.shape)\n",
    "p_h4_h5 = np.zeros(T.shape)\n",
    "\n",
    "for i in range(p_h1_h2.shape[0]):\n",
    "    for j in range(p_h1_h2.shape[1]):\n",
    "        p_h1_h2[i,j] = alpha[0,i]* beta[1, j]*T[i,j]*A[V[1],j] #*A[V[0],i]\n",
    "        p_h4_h5[i,j] = alpha[3,i]* beta[4, j]*T[i,j]*A[V[4],j] #*A[V[3],i]\n",
    "\n",
    "p_h1_h2=p_h1_h2/np.sum(p_h1_h2)\n",
    "print(p_h1_h2)\n",
    "\n",
    "p_h4_h5 = p_h4_h5/np.sum(p_h4_h5)\n",
    "print(p_h4_h5)\n"
   ]
  },
  {
   "cell_type": "code",
   "execution_count": 4,
   "metadata": {},
   "outputs": [],
   "source": [
    "def calcLowerBound(V, TEst, response):\n",
    "    free_energy = 0 \n",
    "    for t in range(V.shape[0]-1):\n",
    "        for i in range(2):\n",
    "            for j in range(2):\n",
    "                free_energy += response[i,j,t]*np.log(TEst[i,j])\n",
    "    \n",
    "    return(free_energy)"
   ]
  },
  {
   "cell_type": "code",
   "execution_count": 5,
   "metadata": {},
   "outputs": [],
   "source": [
    "def baumWelch(V, A, initial_dist):\n",
    "    #Initialise Transition matrix\n",
    "    T = np.array([[0.5,0.8], [0.5, 0.2]])\n",
    "    #Number of data points\n",
    "    ndata = V.shape[0]\n",
    "    \n",
    "    #Initalise response matrix for 2x2 transition p(ht,ht+1|v1:T)\n",
    "    response = np.zeros((2,2,ndata-1))\n",
    "    \n",
    "    #Initialise free energy\n",
    "    free_energy=[]\n",
    "    \n",
    "    epsilon = 0.0001\n",
    "    nIter = 0\n",
    "    running = True\n",
    "    while running:\n",
    "        #E step - update the probability distribtuion p(ht, ht+1|v, \\theta)\n",
    "        #Given the current T we want to update the posterior dist on hts\n",
    "        \n",
    "        alpha = forward(V, A, T, initial_dist)\n",
    "        beta = backward(V, A, T)\n",
    "        \n",
    "        #Expectation step\n",
    "        for t in range(ndata-1):\n",
    "            for i in range(2):\n",
    "                for j in range(2):\n",
    "                    #calc response p(ht =i, ht+1 = j|v1:T and param)\n",
    "                    response[i,j,t] = alpha[t, i]*T[i,j]*A[V[t+1],j]*beta[t+1,j]\n",
    "            #Normalise with respect to each i and j\n",
    "            summond = np.sum(np.sum(response[:,:,t]))\n",
    "            if summond ==0:\n",
    "                summond=1\n",
    "                \n",
    "            response[:,:,t] = response[:,:,t]/summond\n",
    "            \n",
    "        \n",
    "        #M step\n",
    "        #Sum up all responses and normalise wrt to the sum over rows.\n",
    "        T_dum = np.sum(response,axis=2)/np.sum(np.sum(response, axis=1), axis=1).reshape((-1,1))\n",
    "        \n",
    "        \n",
    "        free_eng = calcLowerBound(V, T, response)\n",
    "        free_energy.append(free_eng)\n",
    "        \n",
    "        if  nIter == 200 or (np.linalg.norm(T - T_dum) < epsilon):\n",
    "            running =False\n",
    "        nIter += 1  \n",
    "        \n",
    "        T = T_dum.T\n",
    "    \n",
    "    x = np.arange(nIter)\n",
    "    plt.plot(x,free_energy)\n",
    "    \n",
    "    print(nIter)\n",
    "    \n",
    "    return T"
   ]
  },
  {
   "cell_type": "code",
   "execution_count": 7,
   "metadata": {},
   "outputs": [
    {
     "name": "stdout",
     "output_type": "stream",
     "text": [
      "201\n",
      "[[0.86814329 0.09006879]\n",
      " [0.13185671 0.90993121]]\n"
     ]
    },
    {
     "data": {
      "image/png": "[encoded data removed]",
      "text/plain": [
       "<Figure size 432x288 with 1 Axes>"
      ]
     },
     "metadata": {
      "needs_background": "light"
     },
     "output_type": "display_data"
    }
   ],
   "source": [
    "chess_results = []\n",
    "\n",
    "f = open('chess.txt', 'r')\n",
    "for item in f.read():\n",
    "    if item != '\\n':\n",
    "        chess_results.append(int(item))\n",
    "\n",
    "chess_results = np.array(chess_results) \n",
    "\n",
    "A = np.array([[0.3, 0.5], [0.6,0],[0.1,0.5]])\n",
    "\n",
    "initial_dist = np.array([[1,0]])\n",
    "\n",
    "T = baumWelch(chess_results, A, initial_dist)\n",
    "print(T)"
   ]
  },
  {
   "cell_type": "markdown",
   "metadata": {},
   "source": [
    "# Part (f)\n",
    "\n",
    "Here we do a forward and backward pass through the algorithm and then calculate the most likely state for h1000 and use learned transition to calculate most likely state for h1001 and use our emission matrix to calculate the final probability."
   ]
  },
  {
   "cell_type": "code",
   "execution_count": 9,
   "metadata": {},
   "outputs": [
    {
     "name": "stdout",
     "output_type": "stream",
     "text": [
      "0\n",
      "1\n",
      "1\n",
      "[0.5 0.  0.5]\n",
      "0\n"
     ]
    }
   ],
   "source": [
    "a = forward(chess_results, A, T, initial_dist)\n",
    "b = backward(chess_results, A, T)\n",
    "V = chess_results\n",
    "\n",
    "p_h1000 =[]\n",
    "p_h1000.append(a[1000-1,0]*b[1000-1,0]*A[V[1000-1],0])\n",
    "p_h1000.append(a[1000-1,1]*b[1000-1,1]*A[V[1000-1],1])\n",
    "\n",
    "print(V[999])\n",
    "h1000 = np.argmax(p_h1000)\n",
    "print(h1000)\n",
    "h1001 = np.argmax(T[h1000,:])\n",
    "print(h1001)\n",
    "\n",
    "print(A[:, h1001])\n",
    "v1001 = np.argmax(A[:,h1001])\n",
    "print(v1001) #50 50 whether visible  is 0 or 2"
   ]
  }
 ],
 "metadata": {
  "kernelspec": {
   "display_name": "Python 3",
   "language": "python",
   "name": "python3"
  },
  "language_info": {
   "codemirror_mode": {
    "name": "ipython",
    "version": 3
   },
   "file_extension": ".py",
   "mimetype": "text/x-python",
   "name": "python",
   "nbconvert_exporter": "python",
   "pygments_lexer": "ipython3",
   "version": "3.7.3"
  }
 },
 "nbformat": 4,
 "nbformat_minor": 4
}
