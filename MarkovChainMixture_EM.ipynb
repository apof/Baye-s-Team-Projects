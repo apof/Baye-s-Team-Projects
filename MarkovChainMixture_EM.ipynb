{
 "cells": [
  {
   "cell_type": "code",
   "execution_count": 86,
   "metadata": {},
   "outputs": [],
   "source": [
    "import numpy as np\n",
    "import numpy.matlib\n",
    "%matplotlib inline\n",
    "from matplotlib import pyplot as plt"
   ]
  },
  {
   "cell_type": "code",
   "execution_count": 87,
   "metadata": {},
   "outputs": [],
   "source": [
    "data_file = \"Data/meteo1.csv\""
   ]
  },
  {
   "cell_type": "code",
   "execution_count": 88,
   "metadata": {},
   "outputs": [],
   "source": [
    "def read_data(data_file):\n",
    "    # Opening file \n",
    "    file = open(data_file) \n",
    "    count = 0\n",
    "    data = []\n",
    "    for line in file: \n",
    "        count += 1\n",
    "        dat = []\n",
    "        line = line.split(\" \")\n",
    "        for d in line:\n",
    "            dat.append(int(d))\n",
    "        data.append(np.array(dat))\n",
    "    \n",
    "    data = np.array(data)\n",
    "  \n",
    "    # Closing files \n",
    "    file.close() \n",
    "    \n",
    "    return data"
   ]
  },
  {
   "cell_type": "code",
   "execution_count": 89,
   "metadata": {},
   "outputs": [],
   "source": [
    "data = read_data(data_file)"
   ]
  },
  {
   "cell_type": "code",
   "execution_count": 90,
   "metadata": {},
   "outputs": [
    {
     "name": "stdout",
     "output_type": "stream",
     "text": [
      "(500, 100)\n"
     ]
    }
   ],
   "source": [
    "print(data.shape)"
   ]
  },
  {
   "cell_type": "code",
   "execution_count": 91,
   "metadata": {},
   "outputs": [],
   "source": [
    "## for a given sequence find the number of each possible transition\n",
    "def find_transitions_number(sequence):\n",
    "    transitions_dict = {}\n",
    "    for i in range(0,3):\n",
    "        for j in range(0,3):\n",
    "            #print(\"Transition: \" + str(i) + \" \" + str(j))\n",
    "            transitions_dict[(i,j)] = 0\n",
    "            \n",
    "    for i in range(0,len(sequence)-1):\n",
    "        transitions_dict[sequence[i],sequence[i+1]] += 1\n",
    "        \n",
    "    return transitions_dict"
   ]
  },
  {
   "cell_type": "code",
   "execution_count": 92,
   "metadata": {},
   "outputs": [],
   "source": [
    "dict_list = []\n",
    "for sequence in data:\n",
    "    transitions_dict = find_transitions_number(sequence)\n",
    "    dict_list.append(transitions_dict)"
   ]
  },
  {
   "cell_type": "code",
   "execution_count": 93,
   "metadata": {},
   "outputs": [
    {
     "name": "stdout",
     "output_type": "stream",
     "text": [
      "{(0, 0): 21, (0, 1): 4, (0, 2): 24, (1, 0): 3, (1, 1): 6, (1, 2): 2, (2, 0): 25, (2, 1): 0, (2, 2): 14}\n"
     ]
    }
   ],
   "source": [
    "print(dict_list[0])"
   ]
  },
  {
   "cell_type": "code",
   "execution_count": 94,
   "metadata": {},
   "outputs": [],
   "source": [
    "## compute sufficient statistics for all the sequences\n",
    "## compute the transition counts for all the possible combinations of transitions appear in a sequence\n",
    "## compute also the initial state for each sequence\n",
    "## reuse these numbers for all the iterations of em without have to recompute them for every iter\n",
    "def compute_sufficient_statistics(S,x_1,x,dict_list):\n",
    "    for i in range(len(dict_list)):\n",
    "        ## receive the transition counts for the specific sequence (alreaady computed)\n",
    "        transitions_dict = dict_list[i]\n",
    "        # define the initial state for the given sequence\n",
    "        x_1[x[i][0]][i] = 1\n",
    "        # define the transition counts for the given sequence\n",
    "        for k in range(0,3):\n",
    "            for l in range(0,3):\n",
    "                S[k][l][i] = transitions_dict.get((k,l))\n",
    "                \n",
    "    return S,x_1"
   ]
  },
  {
   "cell_type": "code",
   "execution_count": 95,
   "metadata": {},
   "outputs": [],
   "source": [
    "# array of sequences\n",
    "x = data\n",
    "# number of states\n",
    "D = 3\n",
    "# number of hidden variables\n",
    "K = 3\n",
    "\n",
    "## number of sequences\n",
    "N = data.shape[0]\n",
    "## transition counts for each sequence\n",
    "Transition_array = np.zeros((D,D,N))\n",
    "## initial states for eaach sequence\n",
    "Initial_state_array = np.zeros((D,N))"
   ]
  },
  {
   "cell_type": "code",
   "execution_count": 96,
   "metadata": {},
   "outputs": [],
   "source": [
    "Transition_array,Initial_state_array = compute_sufficient_statistics(Transition_array,Initial_state_array,x,dict_list)"
   ]
  },
  {
   "cell_type": "code",
   "execution_count": 97,
   "metadata": {},
   "outputs": [
    {
     "name": "stdout",
     "output_type": "stream",
     "text": [
      "[[21.  4. 24.]\n",
      " [ 3.  6.  2.]\n",
      " [25.  0. 14.]]\n"
     ]
    }
   ],
   "source": [
    "print(Transition_array[:,:,0])"
   ]
  },
  {
   "cell_type": "code",
   "execution_count": 98,
   "metadata": {},
   "outputs": [
    {
     "name": "stdout",
     "output_type": "stream",
     "text": [
      "[0. 1. 0.]\n"
     ]
    }
   ],
   "source": [
    "print(Initial_state_array[:,0])"
   ]
  },
  {
   "cell_type": "code",
   "execution_count": 99,
   "metadata": {},
   "outputs": [],
   "source": [
    "Transition_array = np.reshape(Transition_array,(D*D,N))"
   ]
  },
  {
   "cell_type": "code",
   "execution_count": 100,
   "metadata": {},
   "outputs": [
    {
     "name": "stdout",
     "output_type": "stream",
     "text": [
      "[21.  4. 24.  3.  6.  2. 25.  0. 14.]\n"
     ]
    }
   ],
   "source": [
    "print(Transition_array[:,0])"
   ]
  },
  {
   "cell_type": "code",
   "execution_count": 101,
   "metadata": {},
   "outputs": [],
   "source": [
    "## the posterior of hidden variables\n",
    "## responsibilities in other words\n",
    "responsibilities = np.zeros((K,N))"
   ]
  },
  {
   "cell_type": "code",
   "execution_count": 102,
   "metadata": {},
   "outputs": [],
   "source": [
    "log_likelihood = []\n",
    "Max_Iters = 20"
   ]
  },
  {
   "cell_type": "code",
   "execution_count": 103,
   "metadata": {},
   "outputs": [],
   "source": [
    "## normalise a matrix along its first dimension (column dimension)\n",
    "def normalise(x):\n",
    "    sum_term = x.sum(axis=0)\n",
    "    ## if a sum is zero replace in with 1\n",
    "    ## in order to avoid nan values by deviding by zero\n",
    "    sum_term[sum_term == 0] = 1\n",
    "    x_normed = x/sum_term\n",
    "    return x_normed"
   ]
  },
  {
   "cell_type": "code",
   "execution_count": 104,
   "metadata": {},
   "outputs": [],
   "source": [
    "def log_function(x):\n",
    "    with np.errstate(divide='ignore'):\n",
    "        res = np.log2(x)\n",
    "     \n",
    "    ## replace with 0 where -inf is encountered\n",
    "    res[np.isneginf(res)]=0\n",
    "    \n",
    "    return res"
   ]
  },
  {
   "cell_type": "code",
   "execution_count": 105,
   "metadata": {},
   "outputs": [],
   "source": [
    "def exponential_normalisation(x):\n",
    "    \n",
    "    max_values = x.max(axis=0)\n",
    "    \n",
    "    exponentiated_matrix = []\n",
    "    for i in range(0,x.shape[1]):\n",
    "        exponentited_col = np.exp(x[:,i] - max_values[i])\n",
    "        exponentiated_matrix.append(exponentited_col)\n",
    "        \n",
    "    exponentiated_matrix = np.array(exponentiated_matrix).T\n",
    "    \n",
    "    return(normalise(exponentiated_matrix))"
   ]
  },
  {
   "cell_type": "code",
   "execution_count": 106,
   "metadata": {},
   "outputs": [
    {
     "data": {
      "text/plain": [
       "(array([[21.,  1.,  0., ...,  2., 26., 19.],\n",
       "        [ 4.,  3., 10., ..., 13.,  7.,  9.],\n",
       "        [24., 14., 10., ..., 11., 18., 20.],\n",
       "        ...,\n",
       "        [25., 12., 15., ..., 20., 22., 24.],\n",
       "        [ 0., 24., 23., ..., 14.,  0.,  0.],\n",
       "        [14.,  6.,  0., ...,  1., 18., 13.]]),\n",
       " array([[0., 0., 0., ..., 0., 1., 1.],\n",
       "        [1., 1., 1., ..., 0., 0., 0.],\n",
       "        [0., 0., 0., ..., 1., 0., 0.]]))"
      ]
     },
     "execution_count": 106,
     "metadata": {},
     "output_type": "execute_result"
    }
   ],
   "source": [
    "Transition_array,Initial_state_array"
   ]
  },
  {
   "cell_type": "code",
   "execution_count": 107,
   "metadata": {},
   "outputs": [],
   "source": [
    "def expectation_step(log_p1,Initial_state_array,log_A,Transition_array,hidden_var_weight):\n",
    "    \n",
    "    ## expectation step\n",
    "    ## update the responsibilities\n",
    "    likelihood = (log_p1.T @ Initial_state_array) + (log_A.T @ Transition_array) + numpy.matlib.repmat(hidden_var_weight,1,N)\n",
    "    ## exponential normalisation of the likelihood\n",
    "    responsibilities = exponential_normalisation(likelihood)\n",
    "    \n",
    "    return likelihood, responsibilities\n",
    "    "
   ]
  },
  {
   "cell_type": "code",
   "execution_count": 108,
   "metadata": {},
   "outputs": [],
   "source": [
    "def maximisation_step(Initial_state_array,responsibilities,Transition_array):\n",
    "    \n",
    "    p1 = normalise(Initial_state_array@responsibilities.T)\n",
    "    A = normalise(np.reshape(Transition_array @ responsibilities.T,(D,D,K)))\n",
    "    hidden_var_weight = normalise(np.reshape((responsibilities.sum(axis = 1)),(K,1)))\n",
    "    \n",
    "    return p1,A,hidden_var_weight"
   ]
  },
  {
   "cell_type": "code",
   "execution_count": 109,
   "metadata": {},
   "outputs": [],
   "source": [
    "def log_likelihood(x):\n",
    "    c = x.max()\n",
    "    return c + np.log2(np.sum(np.exp(x - c)))"
   ]
  },
  {
   "cell_type": "code",
   "execution_count": 110,
   "metadata": {},
   "outputs": [
    {
     "name": "stdout",
     "output_type": "stream",
     "text": [
      "1.0\n",
      "1.0\n",
      "0.9999999999999999\n"
     ]
    }
   ],
   "source": [
    "## randomly initialise the paraameters of the model\n",
    "## i pick some points uniformly and randomly using random.uniform\n",
    "## but then i normalise the (based on the first dimension) because i waant a distribution\n",
    "hidden_var_weight = np.random.uniform(size=(K,1))\n",
    "p1 = np.random.uniform(size=(D,K))\n",
    "A = np.random.uniform(size=(D,D,K))\n",
    "\n",
    "hidden_var_weight = normalise(hidden_var_weight)\n",
    "p1 = normalise(p1)\n",
    "A = normalise(A)\n",
    "\n",
    "print(np.sum(p1[:,0]))\n",
    "print(np.sum(hidden_var_weight[:,0]))\n",
    "print(np.sum(A[:,0,0]))"
   ]
  },
  {
   "cell_type": "code",
   "execution_count": 111,
   "metadata": {},
   "outputs": [],
   "source": [
    "log_lkl = []\n",
    "iters = []\n",
    "\n",
    "## EM training\n",
    "for i in range(Max_Iters):\n",
    "    \n",
    "    log_p1 = log_function(p1)\n",
    "    log_A = np.reshape(log_function(A),(D*D,K))\n",
    "    log_hidden_var_weight = log_function(hidden_var_weight)\n",
    " \n",
    "    likelihood, responsibilities = expectation_step(log_p1,Initial_state_array,log_A,Transition_array,log_hidden_var_weight)\n",
    "    \n",
    "    ## calculate the log likelihood\n",
    "    log_likelihood_of_iteration = log_likelihood(likelihood)    \n",
    "    log_lkl.append(log_likelihood_of_iteration)\n",
    "    \n",
    "    ## maximisation step\n",
    "    ## update the parameters of the model\n",
    "    p1,A,hidden_var_weight = maximisation_step(Initial_state_array,responsibilities,Transition_array)"
   ]
  },
  {
   "cell_type": "code",
   "execution_count": 112,
   "metadata": {},
   "outputs": [],
   "source": [
    "def plot_likelihood(iterations,likelihood):\n",
    "    \n",
    "    plt.plot(iterations, likelihood, color='green', label='Log-Likelihood')\n",
    "    plt.title('Log Likelihood over iterations')\n",
    "    plt.xlabel('Iterations')\n",
    "    plt.ylabel('Log-Likelihood')\n",
    "    plt.legend()\n",
    "    plt.show()\n",
    "    plt.figure()"
   ]
  },
  {
   "cell_type": "code",
   "execution_count": 113,
   "metadata": {},
   "outputs": [
    {
     "data": {
      "image/png": "[encoded data removed]",
      "text/plain": [
       "<Figure size 432x288 with 1 Axes>"
      ]
     },
     "metadata": {
      "needs_background": "light"
     },
     "output_type": "display_data"
    },
    {
     "data": {
      "text/plain": [
       "<Figure size 432x288 with 0 Axes>"
      ]
     },
     "metadata": {},
     "output_type": "display_data"
    }
   ],
   "source": [
    "plot_likelihood(range(Max_Iters),log_lkl)"
   ]
  },
  {
   "cell_type": "code",
   "execution_count": 114,
   "metadata": {},
   "outputs": [
    {
     "name": "stdout",
     "output_type": "stream",
     "text": [
      "range(0, 20)\n",
      "[-124.87005100301242, -107.1449702107255, -106.90836617414864, -106.90836728233305, -106.90836732514825, -106.90836700600711, -106.90836672246029, -106.90836655984934, -106.90836648590776, -106.90836646345392, -106.90836646960325, -106.90836649169235, -106.9083665226241, -106.90836655829689, -106.90836659633241, -106.90836663529377, -106.90836667390747, -106.90836671005644, -106.90836673948932, -106.9083667544205]\n"
     ]
    }
   ],
   "source": [
    "print(range(Max_Iters))\n",
    "print(log_lkl)"
   ]
  },
  {
   "cell_type": "code",
   "execution_count": 115,
   "metadata": {},
   "outputs": [
    {
     "name": "stdout",
     "output_type": "stream",
     "text": [
      "The responsibililty for the first sample is: [6.57089479e-01 1.94320475e-35 3.42910521e-01] and sums to 1.0\n",
      "The responsibililty for the first sample is: [6.68217600e-51 1.00000000e+00 2.54381157e-48] and sums to 1.0\n",
      "The responsibililty for the first sample is: [1.94736047e-65 1.00000000e+00 1.37012318e-64] and sums to 1.0\n",
      "The responsibililty for the first sample is: [1.07819280e-36 1.00000000e+00 1.70562054e-40] and sums to 1.0\n",
      "The responsibililty for the first sample is: [1.78188853e-43 1.00000000e+00 1.76223360e-44] and sums to 1.0\n",
      "The responsibililty for the first sample is: [5.29610419e-44 1.00000000e+00 7.38045533e-41] and sums to 1.0\n",
      "The responsibililty for the first sample is: [9.99781472e-01 1.60236311e-31 2.18527629e-04] and sums to 1.0\n",
      "The responsibililty for the first sample is: [7.42788974e-50 1.00000000e+00 7.44057134e-51] and sums to 1.0\n",
      "The responsibililty for the first sample is: [2.97956552e-049 1.00000000e+000 1.68725337e-236] and sums to 1.0\n",
      "The responsibililty for the first sample is: [1.02607696e-52 1.00000000e+00 3.36640857e-53] and sums to 1.0\n"
     ]
    }
   ],
   "source": [
    "## print the responsibilities on hidden states for the first 10 sequences\n",
    "for i in range(0,10):\n",
    "    print(\"The responsibililty for the first sample is: \" + str(responsibilities[:,i]) + \" and sums to \" + str(np.sum(responsibilities[:,i])))"
   ]
  },
  {
   "cell_type": "code",
   "execution_count": 116,
   "metadata": {},
   "outputs": [],
   "source": [
    "##  print the learnt parameters of the model"
   ]
  },
  {
   "cell_type": "code",
   "execution_count": 117,
   "metadata": {},
   "outputs": [
    {
     "name": "stdout",
     "output_type": "stream",
     "text": [
      "[[[0.38367924 0.06705976 0.42455694]\n",
      "  [0.42974099 0.26172892 0.34546707]\n",
      "  [0.46022152 0.35915805 0.64063269]]\n",
      "\n",
      " [[0.08727815 0.19128523 0.08955114]\n",
      "  [0.52448051 0.25947809 0.58985401]\n",
      "  [0.09331091 0.54707411 0.07179991]]\n",
      "\n",
      " [[0.5290426  0.74165501 0.48589192]\n",
      "  [0.0457785  0.47879299 0.06467892]\n",
      "  [0.44646757 0.09376783 0.2875674 ]]]\n",
      "0.9999999999999999\n"
     ]
    }
   ],
   "source": [
    "print(A)\n",
    "print(np.sum(A[:,0,0]))"
   ]
  },
  {
   "cell_type": "code",
   "execution_count": 118,
   "metadata": {},
   "outputs": [
    {
     "name": "stdout",
     "output_type": "stream",
     "text": [
      "[[4.54552790e-001 3.61386139e-001 1.94254872e-001]\n",
      " [5.45447210e-001 3.63861386e-001 8.05745128e-001]\n",
      " [2.56631467e-021 2.74752475e-001 1.92654749e-205]]\n",
      "1.0\n"
     ]
    }
   ],
   "source": [
    "print(p1)\n",
    "print(np.sum(p1[:,0]))"
   ]
  },
  {
   "cell_type": "code",
   "execution_count": 119,
   "metadata": {},
   "outputs": [
    {
     "name": "stdout",
     "output_type": "stream",
     "text": [
      "[[0.17173808]\n",
      " [0.808     ]\n",
      " [0.02026192]]\n",
      "1.0\n"
     ]
    }
   ],
   "source": [
    "print(hidden_var_weight)\n",
    "print(np.sum(hidden_var_weight[:,0]))"
   ]
  }
 ],
 "metadata": {
  "kernelspec": {
   "display_name": "Python 3",
   "language": "python",
   "name": "python3"
  },
  "language_info": {
   "codemirror_mode": {
    "name": "ipython",
    "version": 3
   },
   "file_extension": ".py",
   "mimetype": "text/x-python",
   "name": "python",
   "nbconvert_exporter": "python",
   "pygments_lexer": "ipython3",
   "version": "3.6.7"
  }
 },
 "nbformat": 4,
 "nbformat_minor": 4
}
